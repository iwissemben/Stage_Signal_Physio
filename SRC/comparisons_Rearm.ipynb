{
 "cells": [
  {
   "attachments": {},
   "cell_type": "markdown",
   "metadata": {},
   "source": [
    "## Import libraries"
   ]
  },
  {
   "cell_type": "code",
   "execution_count": null,
   "metadata": {},
   "outputs": [],
   "source": [
    "import os\n",
    "import pyxdf # xdf file importation\n",
    "import matplotlib.pyplot as plt\n",
    "import numpy as np\n",
    "from my_functions import *\n",
    "# library for creating filters\n",
    "from scipy.signal import butter, iirnotch, filtfilt, welch\n",
    "%matplotlib widget\n"
   ]
  },
  {
   "cell_type": "code",
   "execution_count": null,
   "metadata": {},
   "outputs": [],
   "source": [
    "plt.close(\"all\")  # close all figure windows"
   ]
  },
  {
   "attachments": {},
   "cell_type": "markdown",
   "metadata": {},
   "source": [
    "## Initialization"
   ]
  },
  {
   "attachments": {},
   "cell_type": "markdown",
   "metadata": {},
   "source": [
    "### File selection and loading (REARM data)"
   ]
  },
  {
   "cell_type": "code",
   "execution_count": null,
   "metadata": {},
   "outputs": [],
   "source": [
    "# Define the xdf file path\n",
    "FILENAME = \"001_MolLud_20201112_1_c_499.txt\"\n",
    "# FILENAME=\"020_DesMar_20211129_1_c.xdf\"\n",
    "# path=os.path.normpath(\"../DAT/Input/001_MolLud_20201112_1_c.xdf\")\n",
    "path = os.path.normpath(\"DAT/INPUT/\"+FILENAME)"
   ]
  },
  {
   "cell_type": "code",
   "execution_count": null,
   "metadata": {},
   "outputs": [],
   "source": [
    "EEG= np.loadtxt(path,dtype=float,delimiter=\",\")\n",
    "EEG_raw_amplitudes=EEG[:,0:8]\n",
    "EEG_times=EEG[:,8]\n",
    "Srate=499\n",
    "N=len(EEG_raw_amplitudes)"
   ]
  },
  {
   "cell_type": "code",
   "execution_count": null,
   "metadata": {},
   "outputs": [],
   "source": [
    "# definition of the EEG channels' names\n",
    "channels_dic = {\"Channel_1\": \"C4\",\n",
    "                \"Channel_2\": \"FC2\",\n",
    "                \"Channel_3\": \"FC6\",\n",
    "                \"Channel_4\": \"CP2\",\n",
    "                \"Channel_5\": \"C3\",\n",
    "                \"Channel_6\": \"FC1\",\n",
    "                \"Channel_7\": \"FC5\",\n",
    "                \"Channel_8\": \"CP1\"}"
   ]
  },
  {
   "attachments": {},
   "cell_type": "markdown",
   "metadata": {},
   "source": [
    "## Electrode selection"
   ]
  },
  {
   "cell_type": "code",
   "execution_count": null,
   "metadata": {},
   "outputs": [],
   "source": [
    "#Electrode selection [1;8]\n",
    "i = 1  # electrode number\n",
    "electrodei = EEG_raw_amplitudes[:, i-1]\n",
    "print(\"electrode\",str(i),\"shape:\",electrodei.shape)"
   ]
  },
  {
   "attachments": {},
   "cell_type": "markdown",
   "metadata": {},
   "source": [
    "## Plots"
   ]
  },
  {
   "attachments": {},
   "cell_type": "markdown",
   "metadata": {},
   "source": [
    "### Raw signal"
   ]
  },
  {
   "cell_type": "code",
   "execution_count": null,
   "metadata": {},
   "outputs": [],
   "source": [
    "print(EEG_raw_amplitudes.shape)\n",
    "plot_signal_time_dsps(EEG_raw_amplitudes[:,i],sample_rate=Srate,signal_name=FILENAME+\"\\n Electrode \"+channels_dic[\"Channel_\"+str(i)])"
   ]
  },
  {
   "attachments": {},
   "cell_type": "markdown",
   "metadata": {},
   "source": [
    "### Signal centering `python str(i)`\n"
   ]
  },
  {
   "cell_type": "code",
   "execution_count": null,
   "metadata": {},
   "outputs": [],
   "source": [
    "EEG_amplitudes_centered=EEG_raw_amplitudes-np.mean(EEG_raw_amplitudes,axis=0)"
   ]
  },
  {
   "cell_type": "code",
   "execution_count": null,
   "metadata": {},
   "outputs": [],
   "source": [
    "print(EEG_amplitudes_centered.shape)\n",
    "plot_signal_time_dsps(EEG_amplitudes_centered[:,1],sample_rate=Srate,signal_name=FILENAME+\"\\n Electrode \"+channels_dic[\"Channel_\"+str(i)])"
   ]
  },
  {
   "attachments": {},
   "cell_type": "markdown",
   "metadata": {},
   "source": [
    "## Elecrode C3 "
   ]
  },
  {
   "cell_type": "code",
   "execution_count": null,
   "metadata": {},
   "outputs": [],
   "source": [
    "#Electrode selection [1;8]\n",
    "i = 5  # electrode number\n",
    "electrodei = EEG_raw_amplitudes[:, i-1]\n",
    "print(\"electrode\",str(i),\"shape:\",electrodei.shape)"
   ]
  },
  {
   "cell_type": "code",
   "execution_count": null,
   "metadata": {},
   "outputs": [],
   "source": [
    "print(EEG_amplitudes_centered.shape)\n",
    "plot_signal_time_dsps(EEG_amplitudes_centered[:,1],sample_rate=Srate,signal_name=FILENAME+\"\\n Electrode \"+channels_dic[\"Channel_\"+str(i)])"
   ]
  }
 ],
 "metadata": {
  "kernelspec": {
   "display_name": "venv_STAGE_SIGNAL_EEG",
   "language": "python",
   "name": "python3"
  },
  "language_info": {
   "codemirror_mode": {
    "name": "ipython",
    "version": 3
   },
   "file_extension": ".py",
   "mimetype": "text/x-python",
   "name": "python",
   "nbconvert_exporter": "python",
   "pygments_lexer": "ipython3",
   "version": "3.11.3"
  },
  "orig_nbformat": 4
 },
 "nbformat": 4,
 "nbformat_minor": 2
}
