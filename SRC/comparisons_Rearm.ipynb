{
 "cells": [
  {
   "attachments": {},
   "cell_type": "markdown",
   "metadata": {},
   "source": [
    "## Import libraries & notebook configuration"
   ]
  },
  {
   "cell_type": "code",
   "execution_count": 53,
   "metadata": {},
   "outputs": [],
   "source": [
    "import os\n",
    "import pyxdf # xdf file importation\n",
    "import matplotlib.pyplot as plt\n",
    "import numpy as np\n",
    "import nbformat #used to call other scripts\n",
    "from my_functions import *\n",
    "\n",
    "# library for creating filters\n",
    "from scipy.signal import butter, iirnotch, filtfilt, welch\n",
    "#%matplotlib widget"
   ]
  },
  {
   "attachments": {},
   "cell_type": "markdown",
   "metadata": {},
   "source": [
    "### Ensure that the root directory is the project directory\n",
    "In some cases, the root directory may not be the project directory. This is usually the case when the notebook is run from a subdirectory of the project directory."
   ]
  },
  {
   "cell_type": "code",
   "execution_count": 54,
   "metadata": {},
   "outputs": [
    {
     "name": "stdout",
     "output_type": "stream",
     "text": [
      "Current working directory:  c:\\Users\\iWiss\\Documents\\GitHub\\Stage_Signal_Physio\n",
      "Current working directory:  c:\\Users\\iWiss\\Documents\\GitHub\\Stage_Signal_Physio\n",
      "Stage_Signal_Physio\n"
     ]
    }
   ],
   "source": [
    "# if pwd is SRC  change to root\n",
    "print(\"Current working directory: \", os.getcwd())\n",
    "if os.path.basename(os.getcwd()) == \"SRC\":\n",
    "    os.chdir(\"..\")\n",
    "print(\"Current working directory: \", os.getcwd())\n",
    "print(os.path.basename(os.getcwd()))"
   ]
  },
  {
   "cell_type": "code",
   "execution_count": 55,
   "metadata": {},
   "outputs": [],
   "source": [
    "plt.close(\"all\")  # close all figure windows"
   ]
  },
  {
   "attachments": {},
   "cell_type": "markdown",
   "metadata": {},
   "source": [
    "## Initialization"
   ]
  },
  {
   "attachments": {},
   "cell_type": "markdown",
   "metadata": {},
   "source": [
    "### Xdf file selection and loading (REARM data)"
   ]
  },
  {
   "cell_type": "code",
   "execution_count": 56,
   "metadata": {},
   "outputs": [],
   "source": [
    "# Define the xdf file of interest\n",
    "xdf_input_filename=\"001_MolLud_20201112_1_c.xdf\"\n",
    "#xdf_filename=\"020_DesMar_20211129_1_c.xdf\"\n",
    "\n",
    "xdf_input_filepath=os.path.normpath(\"DAT/INPUT/\"+xdf_input_filename)"
   ]
  },
  {
   "attachments": {},
   "cell_type": "markdown",
   "metadata": {},
   "source": [
    "### Convert xdf eeg data to csv"
   ]
  },
  {
   "cell_type": "code",
   "execution_count": 57,
   "metadata": {},
   "outputs": [
    {
     "name": "stdout",
     "output_type": "stream",
     "text": [
      "Input filepath:  DAT\\INPUT\\001_MolLud_20201112_1_c.xdf\n",
      "Input filename:  001_MolLud_20201112_1_c\n",
      "PROCESS_SIGNAL ? -- True\n",
      "Processing signals\n",
      "Detrending...\n",
      "input_signals shape:\n",
      " (221938, 8)\n",
      "input_signals mean per signal:\n",
      " [27897.195 26144.139 28026.402 35319.527 31324.672 24827.713 32372.799\n",
      " 29788.95 ]\n",
      "Rereferencing...\n",
      "input_signals shape:(221938, 8)\n",
      "input_signals whole mean:13.818697929382324\n",
      "Filtering...\n",
      "LOW_CUTOFF_FREQ_THEORETICAL=5,HIGH_CU-TOFF_FREQ_THEORETICAL=100\n",
      "LOW_CUTOFF_FREQ_CORRECTED=4.732,HIGH_CUTOFF_FREQ_CORRECTED=104.203\n",
      "NOTCH_CUTOFF_FREQ=50\n",
      "Filtered signal shape: (221938, 8)\n",
      "EEG_for_export shape : (221938, 8)\n",
      "export data header : Channel_1:C4, Channel_2:FC2, Channel_3:FC6, Channel_4:CP2, Channel_5:C3, Channel_6:FC1, Channel_7:FC5, Channel_8:CP1,time(sec)\n",
      "Input filepath : DAT\\INPUT\\001_MolLud_20201112_1_c.xdf\n",
      "Output filepath : DAT\\INPUT\\001_MolLud_20201112_1_c_prepro_499.998_Hz.csv\n"
     ]
    }
   ],
   "source": [
    "#option to process the signal before export to csv (detrending,rereferencing,filtering) (bool)\n",
    "PROCESS_SIGNAL= True\n",
    "\n",
    "#Execute the exportation of the EEG data in xdf file to csv, returns output filename\n",
    "csv_input_filename = export_xdf_eeg_to_csv(xdf_input_filepath,PROCESS_SIGNAL) \n"
   ]
  },
  {
   "attachments": {},
   "cell_type": "markdown",
   "metadata": {},
   "source": [
    "### Load corresponding csv file"
   ]
  },
  {
   "cell_type": "code",
   "execution_count": 58,
   "metadata": {},
   "outputs": [
    {
     "name": "stdout",
     "output_type": "stream",
     "text": [
      "DAT\\INPUT\\001_MolLud_20201112_1_c_prepro_499.998_Hz.csv\n"
     ]
    }
   ],
   "source": [
    "csv_input_filepath=os.path.normpath(\"DAT/INPUT/\"+csv_input_filename)\n",
    "print(csv_input_filepath)\n",
    "EEG_data= np.genfromtxt(csv_input_filepath, delimiter=',',skip_header=1)"
   ]
  },
  {
   "attachments": {},
   "cell_type": "markdown",
   "metadata": {},
   "source": [
    "### Tidy data"
   ]
  },
  {
   "cell_type": "code",
   "execution_count": 59,
   "metadata": {},
   "outputs": [],
   "source": [
    "EEG_amplitudes=EEG_data[:,0:8] #first 8 columns are channels\n",
    "EEG_times=EEG_data[:,8] #last is absolute time in sec\n",
    "Srate=499\n",
    "N=len(EEG_amplitudes)"
   ]
  },
  {
   "attachments": {},
   "cell_type": "markdown",
   "metadata": {},
   "source": [
    "## PSD estimation results : Electrode C3 and C4 "
   ]
  },
  {
   "cell_type": "code",
   "execution_count": 60,
   "metadata": {},
   "outputs": [],
   "source": [
    "# definition of the EEG channels' names\n",
    "channels_dict = {\"Channel_1\": \"C4\",\n",
    "                \"Channel_2\": \"FC2\",\n",
    "                \"Channel_3\": \"FC6\",\n",
    "                \"Channel_4\": \"CP2\",\n",
    "                \"Channel_5\": \"C3\",\n",
    "                \"Channel_6\": \"FC1\",\n",
    "                \"Channel_7\": \"FC5\",\n",
    "                \"Channel_8\": \"CP1\"}"
   ]
  },
  {
   "attachments": {},
   "cell_type": "markdown",
   "metadata": {},
   "source": [
    "### Electrode selection"
   ]
  },
  {
   "cell_type": "code",
   "execution_count": 61,
   "metadata": {},
   "outputs": [
    {
     "name": "stdout",
     "output_type": "stream",
     "text": [
      "selected channels :\n",
      "channel number:1, channel index:0\n",
      "Channel_1_C4\n",
      "channel number:5, channel index:4\n",
      "Channel_5_C3\n",
      "matlab psd results file names: ['MATLAB_PSD_res_EEG_Channel_1_C4_001_MolLud_20201112_1_c_prepro_499.998_Hz.csv', 'MATLAB_PSD_res_EEG_Channel_5_C3_001_MolLud_20201112_1_c_prepro_499.998_Hz.csv']\n"
     ]
    }
   ],
   "source": [
    "# Selection of electrodes to test\n",
    "\n",
    "SELECT_CHANNEL_NUMBERS=np.array([1,5])\n",
    "channel_indexes=SELECT_CHANNEL_NUMBERS-1\n",
    "MATLAB_PSD_results_filenames_list=[]\n",
    "\n",
    "print(\"selected channels :\")\n",
    "for (i,y) in zip(SELECT_CHANNEL_NUMBERS,channel_indexes):\n",
    "    print(f\"channel number:{i}, channel index:{y}\")\n",
    "    channel_name=\"Channel_\"+str(i)+\"_\"+channels_dict[\"Channel_\"+str(i)]\n",
    "    print(channel_name)\n",
    "    #get name of corresponding matlab psd result \n",
    "    filenamei=\"MATLAB_PSD_res_EEG_\"+channel_name+\"_\"+csv_input_filename \n",
    "    MATLAB_PSD_results_filenames_list.append(filenamei)\n",
    "print(f\"matlab psd results file names: {MATLAB_PSD_results_filenames_list}\")\n"
   ]
  },
  {
   "attachments": {},
   "cell_type": "markdown",
   "metadata": {},
   "source": [
    "### Import matlab psd results for selected electrodes"
   ]
  },
  {
   "cell_type": "code",
   "execution_count": 62,
   "metadata": {},
   "outputs": [
    {
     "name": "stdout",
     "output_type": "stream",
     "text": [
      "num:1,index:0\n",
      "Channel_1_C4\n"
     ]
    },
    {
     "name": "stdout",
     "output_type": "stream",
     "text": [
      "N:  221938\n",
      "duration:  444.76553106212424\n",
      "time_vector shape:  (221938,)\n"
     ]
    }
   ],
   "source": [
    "#iterate simultaneously over the channel number and index, while keeping count of the number of iterations\n",
    "for iter,(i,y) in enumerate(zip(SELECT_CHANNEL_NUMBERS,channel_indexes)):\n",
    "    print(f\"num:{i},index:{y}\") \n",
    "    channel_name=\"Channel_\"+str(i)+\"_\"+channels_dict[\"Channel_\"+str(i)]\n",
    "    print(channel_name)\n",
    "    matlab_results_filename=\"MATLAB_PSD_res_EEG_\"+channel_name+\"_\"+csv_input_filename \n",
    "    matlab_data = import_psd_results(matlab_results_filename)\n",
    "    plot_signal_time_dsps(fig_number=iter,signal=EEG_amplitudes[:,y],sample_rate=Srate,\n",
    "                    signal_name=matlab_results_filename+\"\\n Electrode \"+channels_dict[\"Channel_\"+str(i)],\n",
    "                    external_results=matlab_data)"
   ]
  }
 ],
 "metadata": {
  "kernelspec": {
   "display_name": "venv_STAGE_SIGNAL_EEG",
   "language": "python",
   "name": "python3"
  },
  "language_info": {
   "codemirror_mode": {
    "name": "ipython",
    "version": 3
   },
   "file_extension": ".py",
   "mimetype": "text/x-python",
   "name": "python",
   "nbconvert_exporter": "python",
   "pygments_lexer": "ipython3",
   "version": "3.11.3"
  },
  "orig_nbformat": 4
 },
 "nbformat": 4,
 "nbformat_minor": 2
}
