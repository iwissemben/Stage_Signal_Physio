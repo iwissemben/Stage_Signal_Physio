{
 "cells": [
  {
   "cell_type": "code",
   "execution_count": 1,
   "metadata": {},
   "outputs": [],
   "source": [
    "import os\n",
    "import pyxdf # xdf file importation\n",
    "import matplotlib.pyplot as plt\n",
    "import numpy as np\n",
    "\n",
    "from my_functions import *\n"
   ]
  },
  {
   "cell_type": "markdown",
   "metadata": {},
   "source": [
    "### Ensure that the root directory is the project directory\n",
    "In some cases, the root directory may not be the project directory. This is usually the case when the notebook is run from a subdirectory of the project directory."
   ]
  },
  {
   "cell_type": "code",
   "execution_count": 2,
   "metadata": {},
   "outputs": [
    {
     "name": "stdout",
     "output_type": "stream",
     "text": [
      "Current working directory:  c:\\Users\\iWiss\\Documents\\GitHub\\Stage_Signal_Physio\\SRC\n",
      "Current working directory:  c:\\Users\\iWiss\\Documents\\GitHub\\Stage_Signal_Physio\n",
      "Stage_Signal_Physio\n"
     ]
    }
   ],
   "source": [
    "# if pwd is SRC  change to root\n",
    "print(\"Current working directory: \", os.getcwd())\n",
    "if os.path.basename(os.getcwd()) == \"SRC\":\n",
    "    os.chdir(\"..\")\n",
    "print(\"Current working directory: \", os.getcwd())\n",
    "print(os.path.basename(os.getcwd()))"
   ]
  },
  {
   "cell_type": "code",
   "execution_count": 3,
   "metadata": {},
   "outputs": [],
   "source": [
    "plt.close(\"all\")  # close all figure windows"
   ]
  },
  {
   "cell_type": "markdown",
   "metadata": {},
   "source": [
    "## Initialization"
   ]
  },
  {
   "cell_type": "markdown",
   "metadata": {},
   "source": [
    "### Xdf file selection and loading (REARM data)"
   ]
  },
  {
   "cell_type": "code",
   "execution_count": 4,
   "metadata": {},
   "outputs": [],
   "source": [
    "# Define the xdf file of interest\n",
    "xdf_input_filename=\"001_MolLud_20201112_1_c.xdf\"\n",
    "#xdf_input_filename=\"020_DesMar_20211129_1_c.xdf\"\n",
    "\n",
    "xdf_input_filepath=os.path.normpath(\"DAT/INPUT/\"+xdf_input_filename)"
   ]
  },
  {
   "cell_type": "code",
   "execution_count": 5,
   "metadata": {},
   "outputs": [],
   "source": [
    "def list_stream_names(stream_list:list):\n",
    "    \"\"\"\n",
    "    Lists the name of the streams founded by pyxdf's multistream importer.\n",
    "\n",
    "    Parameters:\n",
    "    ----------\n",
    "        -stream_list (list): List of streams founded.\n",
    "\n",
    "    Returns:\n",
    "    --------\n",
    "        - stream_names (list): list of names of the founded streams\n",
    "    \"\"\"\n",
    "    stream_names=[]\n",
    "\n",
    "    for stream in stream_list:\n",
    "        stream_name=stream[\"info\"][\"name\"][0]\n",
    "        stream_names.append(stream_name)\n",
    "    \n",
    "    return stream_names"
   ]
  },
  {
   "cell_type": "code",
   "execution_count": 6,
   "metadata": {},
   "outputs": [],
   "source": [
    "def retrieve_stream_data_from_xdf(xdf_input_filepath:str,stream_type:str,stream_name:str=None):\n",
    "    \"\"\"\n",
    "    Retrieves data and recording setup information from a selected stream of an xdf file and return them tidied for ReArm needs.\n",
    "\n",
    "    Returns the data as a nested dictionary.\n",
    "    \n",
    "    Note: Currently handeled stream types: \"EEG\", \"Mocap\", \"Markers\".\n",
    "\n",
    "    Parameters:\n",
    "    -----------\n",
    "        - xdf_input_filepath (str): Filepath towards xdf file to analyze\n",
    "        - stream_type (str) : Type of the stream to look for\n",
    "        - stream_name (str): (optional) Name of the stream if multiple are found.\n",
    "\n",
    "    Returns:\n",
    "    -----------\n",
    "        - stream_result_data (dict): \n",
    "            - \"data\" (dict): \n",
    "                - \"time_series\" : stream_data_samples (np.ndarray) - 2D array of raw samples (each column contains data from a channel)\n",
    "                - \"timestamps\": stream_data_timestamps (np.ndarray) - 1D array of raw timestamps (associated to each sample)\n",
    "            - \"infos\" (dict):\n",
    "                - \"sample_rate\" (dict):\n",
    "                    - \"nominal_srate\" : nominal_srate (float) - nominal sampling rate of the recording\n",
    "                    - \"effective_srate\" : effective_srate (float) - effective sampling rate of the recording \n",
    "                - \"channels\" (dict):\n",
    "                    - \"names\" : channel_names (list) - list of channel names\n",
    "                    - \"units\" : channel_units (list) - list of channel data units\n",
    "    \n",
    "                - \"recording_time_limits\" (dict): \n",
    "                    - \"recording_start\" : recording_start (float) - first_timestamp (units?)\n",
    "                    - \"recording_end\" : recording_end (float) - last_timestamp (units?)\n",
    "\n",
    "    \"\"\"\n",
    "    \n",
    "    if stream_name is not None:\n",
    "        stream_list, fileheader = pyxdf.load_xdf(xdf_input_filepath, select_streams=[{'type': stream_type,'name': stream_name}])\n",
    "    else :\n",
    "        stream_list, fileheader = pyxdf.load_xdf(xdf_input_filepath, select_streams=[{'type': stream_type}])\n",
    "\n",
    "    if len(stream_list) > 1:\n",
    "        stream_names = list_stream_names(stream_list)\n",
    "        raise Exception(f\"More than one stream nammed '{stream_type}' was found. Stream names : {stream_names} \\n Try specifying the stream name when calling the function. \")\n",
    "\n",
    "    else:\n",
    "        stream_data = stream_list[0]\n",
    "        #print(EEG_data)\n",
    "\n",
    "    #get stream data\n",
    "    stream_data_timestamps = stream_data[\"time_stamps\"]\n",
    "    stream_data_samples = stream_data[\"time_series\"]\n",
    "\n",
    "    #get channel names and units\n",
    "    channel_names = []\n",
    "    channel_units = []\n",
    "    if stream_type == \"EEG\":\n",
    "        for i in range(stream_data_samples.shape[-1]):\n",
    "            channel_i_name = stream_data[\"info\"][\"desc\"][0][\"channel\"][i][\"name\"][0]\n",
    "            channel_i_unit = stream_data[\"info\"][\"desc\"][0][\"channel\"][i][\"unit\"][0]\n",
    "            channel_names.append(channel_i_name)\n",
    "            channel_units.append(channel_i_unit)\n",
    "    elif stream_type == \"MoCap\":\n",
    "        for i in range(stream_data_samples.shape[-1]):\n",
    "            channel_i_name = stream_data[\"info\"][\"desc\"][0][\"channels\"][0][\"channel\"][i][\"label\"][0]\n",
    "            channel_i_unit = stream_data[\"info\"][\"desc\"][0][\"channels\"][0][\"channel\"][i][\"unit\"][0]\n",
    "            channel_names.append(channel_i_name)\n",
    "            channel_units.append(channel_i_unit)\n",
    "    elif stream_type == \"Markers\":\n",
    "            channel_names.append(\"Maker_labels\")\n",
    "            channel_units.append(None)\n",
    "    else:\n",
    "        raise Exception(f\"stream type {stream_type} not handeled yet\")\n",
    "\n",
    "\n",
    "    #get sample rates\n",
    "    nominal_srate = float(stream_data[\"info\"][\"nominal_srate\"][0])\n",
    "    effective_srate = float(stream_data[\"info\"][\"effective_srate\"])\n",
    "\n",
    "    #get recording landmarks\n",
    "    recording_start = float(stream_data[\"footer\"][\"info\"][\"first_timestamp\"][0])\n",
    "    recording_end = float(stream_data[\"footer\"][\"info\"][\"last_timestamp\"][0])\n",
    "\n",
    "    #store data in dictionaries\n",
    "    data_dict = {\"time_series\":stream_data_samples,\"timestamps\":stream_data_timestamps}\n",
    "\n",
    "    info_dict = {\"sample_rate\":{ \"nominal\":nominal_srate,\"effective\":effective_srate},\n",
    "                 \"recording_time_limits\":{\"start\":recording_start,\"end\":recording_end},\n",
    "                 \"channels\":{\"names\":channel_names,\"units\":channel_units}}\n",
    "\n",
    "    stream_result_data={\"data\":data_dict,\"infos\":info_dict}\n",
    "    return stream_result_data"
   ]
  },
  {
   "cell_type": "code",
   "execution_count": 7,
   "metadata": {},
   "outputs": [
    {
     "name": "stdout",
     "output_type": "stream",
     "text": [
      "['Ch1', 'Ch2', 'Ch3', 'Ch4', 'Ch5', 'Ch6', 'Ch7', 'Ch8']\n",
      "['microvolts', 'microvolts', 'microvolts', 'microvolts', 'microvolts', 'microvolts', 'microvolts', 'microvolts']\n"
     ]
    }
   ],
   "source": [
    "test=retrieve_stream_data_from_xdf(xdf_input_filepath=xdf_input_filepath,stream_type=\"EEG\")\n",
    "print(test[\"infos\"][\"channels\"][\"names\"])\n",
    "print(test[\"infos\"][\"channels\"][\"units\"])"
   ]
  },
  {
   "cell_type": "code",
   "execution_count": 8,
   "metadata": {},
   "outputs": [
    {
     "data": {
      "text/plain": [
       "{'data': {'time_series': array([[634., 810.,   1.],\n",
       "         [632., 810.,   1.],\n",
       "         [631., 811.,   1.],\n",
       "         ...,\n",
       "         [371., 679.,   1.],\n",
       "         [362., 666.,   1.],\n",
       "         [  0.,   0.,   0.]], dtype=float32),\n",
       "  'timestamps': array([683474.98482845, 683474.99548071, 683475.00613298, ...,\n",
       "         683727.15089722, 683727.16154399, 683727.17219077])},\n",
       " 'infos': {'sample_rate': {'nominal': 100.0, 'effective': 93.92194728374322},\n",
       "  'recording_time_limits': {'start': 683474.9270993, 'end': 683727.1659653},\n",
       "  'channels': {'names': ['mouseX', 'mouseY', 'mouseInTarget'],\n",
       "   'units': ['pixels', 'pixels', 'boolean']}}}"
      ]
     },
     "execution_count": 8,
     "metadata": {},
     "output_type": "execute_result"
    }
   ],
   "source": [
    "retrieve_stream_data_from_xdf(xdf_input_filepath=xdf_input_filepath,stream_type=\"MoCap\",stream_name=\"Mouse\")"
   ]
  },
  {
   "cell_type": "code",
   "execution_count": 9,
   "metadata": {},
   "outputs": [
    {
     "data": {
      "text/plain": [
       "{'data': {'time_series': array([[111],\n",
       "         [100],\n",
       "         [111],\n",
       "         [100],\n",
       "         [111],\n",
       "         [100],\n",
       "         [111],\n",
       "         [100],\n",
       "         [111],\n",
       "         [100],\n",
       "         [111],\n",
       "         [100]]),\n",
       "  'timestamps': array([683474.4032842 , 683494.40532136, 683514.40691942, 683534.40919337,\n",
       "         683554.40970723, 683574.41099179, 683627.16012687, 683647.16022163,\n",
       "         683667.16187809, 683687.16441704, 683707.165428  , 683727.16588116])},\n",
       " 'infos': {'sample_rate': {'nominal': 0.0, 'effective': 0.0},\n",
       "  'recording_time_limits': {'start': 683474.4032944, 'end': 683727.1658919},\n",
       "  'channels': {'names': ['Maker_labels'], 'units': [None]}}}"
      ]
     },
     "execution_count": 9,
     "metadata": {},
     "output_type": "execute_result"
    }
   ],
   "source": [
    "retrieve_stream_data_from_xdf(xdf_input_filepath=xdf_input_filepath,stream_type=\"Markers\",stream_name=\"MouseToNIC\")"
   ]
  },
  {
   "cell_type": "code",
   "execution_count": 10,
   "metadata": {},
   "outputs": [],
   "source": [
    "def create_marker_times_labels_array2(marker_time_stamps:np.ndarray=None,marker_labels:np.ndarray=None,xdf_input_filepath:str=None):\n",
    "    \"\"\"\n",
    "    Create an array combining the markers labels and their timestamps.\n",
    "        If xdf file specified, timestamps are retrieved from the file and processed to start relative to recording start, not to unix epoch anymore.\n",
    "        If marker_time_stamps and marker_labels, the arrays are stacked and returned as defined.\n",
    "\n",
    "    Parameters\n",
    "    ----------\n",
    "        marker_time_stamps (np.ndarray): 1D array containing the marker timestamps.\n",
    "        marker_labels (np.ndarray): 1D array containing the markers labels.\n",
    "        xdf_input_filepath (str): Filepath of the EEG recordings as xdf file.\n",
    "        \n",
    "    Returns\n",
    "    -------\n",
    "        markers_times_labels (np.ndarray): 2D array containing the markers's timestamps alongside their labels in this order: [marker_timestamps,marker_labels].\n",
    "    \"\"\"\n",
    "    all_args = [xdf_input_filepath,marker_time_stamps,marker_labels]\n",
    "    is_all_none = all(element is None for element in all_args)\n",
    "    \n",
    "    if is_all_none:\n",
    "        raise Exception(\"No arguments specified.\")\n",
    "    elif xdf_input_filepath:\n",
    "        #Retrieve directly from xdf file markers timestamps relative to recording start and their labels\n",
    "        mouse_markers_data = retrieve_stream_data_from_xdf(xdf_input_filepath=xdf_input_filepath,\n",
    "                                      stream_type=\"Markers\",stream_name=\"MouseToNIC\")\n",
    "        mouse_markers_labels = mouse_markers_data[\"data\"][\"time_series\"]\n",
    "        mouse_markers_times = mouse_markers_data[\"data\"][\"timestamps\"]-mouse_markers_data[\"data\"][\"timestamps\"][0]\n",
    "        markers_times_labels=np.column_stack((mouse_markers_times,mouse_markers_labels))\n",
    "\n",
    "    else:\n",
    "        #stack given arrays to create the marker_times_labels array\n",
    "        markers_times_labels=np.column_stack((marker_time_stamps,marker_labels))\n",
    "    return markers_times_labels"
   ]
  },
  {
   "cell_type": "code",
   "execution_count": 11,
   "metadata": {},
   "outputs": [],
   "source": [
    "# definition of the EEG channels' names\n",
    "channels_dict = {\"Channel_1\": \"C4\",\n",
    "                \"Channel_2\": \"FC2\",\n",
    "                \"Channel_3\": \"FC6\",\n",
    "                \"Channel_4\": \"CP2\",\n",
    "                \"Channel_5\": \"C3\",\n",
    "                \"Channel_6\": \"FC1\",\n",
    "                \"Channel_7\": \"FC5\",\n",
    "                \"Channel_8\": \"CP1\"}"
   ]
  },
  {
   "cell_type": "code",
   "execution_count": 12,
   "metadata": {},
   "outputs": [],
   "source": [
    "# compute the tangential speed\n",
    "\n",
    "def compute_tangential_speed(coordinates:np.ndarray,sample_rate:float):\n",
    "    \"\"\"\n",
    "    Computes the tangential speed from xy coordinates.\n",
    "    \n",
    "    Parameters\n",
    "    ----------\n",
    "        coordinates (np.ndarray): 2D array containing X and Y mouse positions in first and second columns respectively\n",
    "        sample_rate (float) : sampling rate of the coordinates\n",
    "\n",
    "    Returns\n",
    "    ----------\n",
    "        result_data (np.ndarray): 2D array containing X and Y mouse position at each time and the corresponding instantaneous tangential speeds\n",
    "            col 1: x positions\n",
    "            col 2: y positions\n",
    "            col 3: tangential speed\n",
    "    \"\"\"\n",
    "    #sampling period\n",
    "    Ts=1/sample_rate\n",
    "\n",
    "    x_coordinates=coordinates[:,0]\n",
    "    y_coordinates=coordinates[:,1]\n",
    "\n",
    "    #position difference between two consecutive samples\n",
    "    dx=np.diff(x_coordinates,prepend=0)\n",
    "    dy=np.diff(y_coordinates,prepend=0)\n",
    "\n",
    "    #compute the instantaneous speeds in each direction\n",
    "    vx=dx/Ts\n",
    "    vy=dy/Ts\n",
    "\n",
    "    #compute the total tangential speed\n",
    "    vt=np.sqrt(vx**2+vy**2)\n",
    "\n",
    "    return vt"
   ]
  },
  {
   "cell_type": "code",
   "execution_count": 13,
   "metadata": {},
   "outputs": [],
   "source": [
    "def show_markers2(plot_type, markers_times_array: np.ndarray):\n",
    "    \"\"\"\n",
    "    Function that displays event markers as vertical lines on a graph (plt or axis). \n",
    "    Inherits of the plot_type object to add marker to figure.\n",
    "\n",
    "    Parameters\n",
    "    ----------\n",
    "    plot_type (object): Parent graph object (plt, or axis)\n",
    "    markers_times_array (np.ndarray): 2D array of markers where column 1 is timestamps and column 2 marker labels in this order.\n",
    "\n",
    "    Returns\n",
    "    ----------\n",
    "        markers (list): List of axvline methods with specific arguments given\n",
    "    \"\"\"\n",
    "    unique_labels=set()\n",
    "    markers=[]\n",
    "\n",
    "    # iterate over an array of markers\n",
    "    for marker in markers_times_array:\n",
    "        timestamp,label=marker\n",
    "        label=str(int(label))\n",
    "        # use different color for marker 111 and 100\n",
    "        if label == \"111\":\n",
    "            color = \"b\"\n",
    "        elif label == \"100\":\n",
    "            color = \"r\"\n",
    "        else:\n",
    "            color = \"green\"\n",
    "            \n",
    "        #each marker type corresponds to a unique label\n",
    "        if label in unique_labels:\n",
    "            label= None\n",
    "        else:\n",
    "            unique_labels.add(label)\n",
    "\n",
    "        marker_axvline_obj=plot_type.axvline(x=timestamp,color=color,label=label)\n",
    "        markers.append(marker_axvline_obj)\n",
    "\n",
    "    return markers"
   ]
  },
  {
   "cell_type": "code",
   "execution_count": 14,
   "metadata": {},
   "outputs": [],
   "source": [
    "mouse_marker_data=retrieve_stream_data_from_xdf(xdf_input_filepath=xdf_input_filepath,stream_type=\"Markers\",stream_name=\"MouseToNIC\")\n",
    "mouse_marker_times=mouse_marker_data[\"data\"][\"timestamps\"]-mouse_marker_data[\"data\"][\"timestamps\"][0]\n",
    "mouse_marker_labels=mouse_marker_data[\"data\"][\"time_series\"]\n",
    "\n",
    "mouse_marker_times_labels = create_marker_times_labels_array(marker_time_stamps=mouse_marker_times,marker_labels=mouse_marker_labels.astype(str))\n",
    "mouse_marker_times_labels2 = create_marker_times_labels_array2(xdf_input_filepath=xdf_input_filepath)\n"
   ]
  },
  {
   "cell_type": "code",
   "execution_count": 15,
   "metadata": {},
   "outputs": [
    {
     "name": "stdout",
     "output_type": "stream",
     "text": [
      "5007.724551040956\n",
      "vt_max= 100154.4910208191 (pixels/s)\n",
      "vt_min= 93.92194728374322 (pixels/s)\n",
      "vt_moy= 1197.3543401322866 (pixels/s)\n"
     ]
    }
   ],
   "source": [
    "mouse_mocap_data=retrieve_stream_data_from_xdf(xdf_input_filepath=xdf_input_filepath,stream_type=\"MoCap\",stream_name=\"Mouse\")\n",
    "\n",
    "mouse_mocap_times=mouse_mocap_data[\"data\"][\"timestamps\"]-mouse_mocap_data[\"data\"][\"timestamps\"][0]\n",
    "mouse_mocap_positions_xy=mouse_mocap_data[\"data\"][\"time_series\"][:,0:2]\n",
    "mouse_mocap_positions_units=np.unique(mouse_mocap_data[\"infos\"][\"channels\"][\"units\"][0:2])[0]\n",
    "mouse_mocap_sample_rate=mouse_mocap_data[\"infos\"][\"sample_rate\"][\"effective\"]\n",
    "\n",
    "mouse_mocap_speeds=compute_tangential_speed(coordinates=mouse_mocap_positions_xy,\n",
    "                                            sample_rate=mouse_mocap_sample_rate)\n",
    "\n",
    "mouse_mocap_speeds_threshold=0.05*np.max(mouse_mocap_speeds)\n",
    "print(mouse_mocap_speeds_threshold)\n",
    "\n",
    "print(f\"vt_max= {np.max(mouse_mocap_speeds)} ({mouse_mocap_positions_units}/s)\")\n",
    "print(f\"vt_min= {np.min(mouse_mocap_speeds)} ({mouse_mocap_positions_units}/s)\")\n",
    "print(f\"vt_moy= {np.mean(mouse_mocap_speeds)} ({mouse_mocap_positions_units}/s)\")"
   ]
  },
  {
   "cell_type": "code",
   "execution_count": 16,
   "metadata": {},
   "outputs": [
    {
     "data": {
      "text/plain": [
       "<matplotlib.legend.Legend at 0x206023ba450>"
      ]
     },
     "execution_count": 16,
     "metadata": {},
     "output_type": "execute_result"
    },
    {
     "data": {
      "image/png": "[encoded data removed]",
      "text/plain": [
       "<Figure size 640x480 with 1 Axes>"
      ]
     },
     "metadata": {},
     "output_type": "display_data"
    }
   ],
   "source": [
    "figure,axis=plt.subplots(layout=\"constrained\")\n",
    "figure.suptitle(f\"Data source: {xdf_input_filename}\")\n",
    "axis.plot(mouse_mocap_times,mouse_mocap_speeds)\n",
    "axis.axhline(mouse_mocap_speeds_threshold,label=\"Threshold (5% of max amp)\",color=\"orange\")\n",
    "axis.set_ylabel(\"Tangential speed (px/s)\")\n",
    "axis.set_xlabel(\"time(s)\")\n",
    "show_markers2(plot_type=axis, markers_times_array=mouse_marker_times_labels2)\n",
    "axis.legend(loc='upper center', bbox_to_anchor=(0.5, -0.05),fancybox=True, shadow=True, ncol=3)\n",
    "\n"
   ]
  }
 ],
 "metadata": {
  "kernelspec": {
   "display_name": "wissem_venv_backup2",
   "language": "python",
   "name": "python3"
  },
  "language_info": {
   "codemirror_mode": {
    "name": "ipython",
    "version": 3
   },
   "file_extension": ".py",
   "mimetype": "text/x-python",
   "name": "python",
   "nbconvert_exporter": "python",
   "pygments_lexer": "ipython3",
   "version": "3.11.3"
  },
  "orig_nbformat": 4
 },
 "nbformat": 4,
 "nbformat_minor": 2
}
