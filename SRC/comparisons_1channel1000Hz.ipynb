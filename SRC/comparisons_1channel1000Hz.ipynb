{
 "cells": [
  {
   "attachments": {},
   "cell_type": "markdown",
   "metadata": {},
   "source": [
    "## Import libraries"
   ]
  },
  {
   "cell_type": "code",
   "execution_count": null,
   "metadata": {},
   "outputs": [],
   "source": [
    "import os\n",
    "import pyxdf # xdf file importation\n",
    "import matplotlib\n",
    "import matplotlib.pyplot as plt\n",
    "import numpy as np\n",
    "from my_functions import *\n",
    "# library for creating filters\n",
    "from scipy.signal import butter, iirnotch, filtfilt, welch, periodogram\n",
    "%matplotlib widget\n"
   ]
  },
  {
   "cell_type": "code",
   "execution_count": null,
   "metadata": {},
   "outputs": [],
   "source": [
    "plt.close(\"all\")  # close all figure windows"
   ]
  },
  {
   "attachments": {},
   "cell_type": "markdown",
   "metadata": {},
   "source": [
    "## Initialization"
   ]
  },
  {
   "attachments": {},
   "cell_type": "markdown",
   "metadata": {},
   "source": [
    " ### File selection and loading (Ramdani data)"
   ]
  },
  {
   "cell_type": "code",
   "execution_count": null,
   "metadata": {},
   "outputs": [],
   "source": [
    "# Define the xdf file path\n",
    "FILENAME = \"EEG_1channel_1000Hz.txt\"\n",
    "# FILENAME=\"020_DesMar_20211129_1_c.xdf\"\n",
    "# path=os.path.normpath(\"../DAT/Input/001_MolLud_20201112_1_c.xdf\")\n",
    "path = os.path.normpath(\"DAT/INPUT/\"+FILENAME)"
   ]
  },
  {
   "cell_type": "code",
   "execution_count": null,
   "metadata": {},
   "outputs": [],
   "source": [
    "EEG_amplitudes= np.loadtxt(path,dtype=float,delimiter=\",\")\n",
    "Srate=1000\n",
    "N=len(EEG_amplitudes)\n"
   ]
  },
  {
   "cell_type": "code",
   "execution_count": null,
   "metadata": {},
   "outputs": [],
   "source": [
    "EEG_amplitudes_centered=EEG_amplitudes-np.mean(EEG_amplitudes)"
   ]
  },
  {
   "attachments": {},
   "cell_type": "markdown",
   "metadata": {},
   "source": [
    "## Plots"
   ]
  },
  {
   "cell_type": "code",
   "execution_count": null,
   "metadata": {},
   "outputs": [],
   "source": [
    "print(EEG_amplitudes.shape)\n",
    "plot_signal_time_dsps(EEG_amplitudes,sample_rate=Srate,signal_name=FILENAME)"
   ]
  },
  {
   "cell_type": "code",
   "execution_count": null,
   "metadata": {},
   "outputs": [],
   "source": [
    "plot_signal_time_dsps(EEG_amplitudes_centered,sample_rate=Srate,signal_name=FILENAME+\" centered\")"
   ]
  }
 ],
 "metadata": {
  "kernelspec": {
   "display_name": "venv_STAGE_SIGNAL_EEG",
   "language": "python",
   "name": "python3"
  },
  "language_info": {
   "codemirror_mode": {
    "name": "ipython",
    "version": 3
   },
   "file_extension": ".py",
   "mimetype": "text/x-python",
   "name": "python",
   "nbconvert_exporter": "python",
   "pygments_lexer": "ipython3",
   "version": "3.11.3"
  },
  "orig_nbformat": 4
 },
 "nbformat": 4,
 "nbformat_minor": 2
}
