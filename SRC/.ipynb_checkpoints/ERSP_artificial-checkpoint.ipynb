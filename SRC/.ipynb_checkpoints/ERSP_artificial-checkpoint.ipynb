{
 "cells": [
  {
   "cell_type": "markdown",
   "metadata": {},
   "source": [
    "# SandBox - Assignment2"
   ]
  },
  {
   "cell_type": "markdown",
   "metadata": {},
   "source": [
    "This script is made only to see the effects of each processing step (centering,rereferencing,filtering) both on time and frequency domains"
   ]
  },
  {
   "cell_type": "markdown",
   "metadata": {},
   "source": [
    "## Table of Contents\n",
    "\n",
    "* [Import libraries](#import)\n",
    "* [Initialization](#init)\n",
    "    * [Generate signals](#gen)\n",
    "        * [Store signals](#storesignals)\n",
    "        * [Define markers](#markers)\n",
    "    * [Generate noise](#noise)\n",
    "        * [Plot noise](#noiseplot)\n",
    "    * [Signal selector and time plot](#timeplot)\n",
    "    * [Time and frequency plot (FFT)](#fftplot)\n",
    "* [1-PSD around markers and ratio calculation : Old method](#old)\n",
    "    * [Compute the PSDs around all markers for all signals](#psdsold)\n",
    "    * [Plot signal i's PSDs around 1st marker 111](#psdplotold)\n",
    "    * [Plot signal i's ERSP around 1st marker 111](#ERSPplotold)\n",
    "    * [Analysis](#analysisold)\n",
    "* [2-PSD around markers and ratio calculation: New method](#new)\n",
    "    * [Compute the PSDs around all markers for one signal](#psdnew)\n",
    "    * [Plot signal i's PSDs around 1st marker 111](#psdplotnew)\n",
    "    * [Analysis 1](#analysis1new)\n",
    "    * [Plot Signal i's ERSP around 1st marker 111](#ERSPnew)\n",
    "    * [Analysis 2](#analysis2new)\n",
    "\n"
   ]
  },
  {
   "cell_type": "markdown",
   "metadata": {},
   "source": [
    "## Import libraries<a name=\"import\"></a>"
   ]
  },
  {
   "cell_type": "code",
   "execution_count": 1,
   "metadata": {},
   "outputs": [],
   "source": [
    "import os\n",
    "import pyxdf # xdf file importation\n",
    "import matplotlib.pyplot as plt\n",
    "import numpy as np\n",
    "from my_functions import *\n",
    "# library for creating filters\n",
    "from scipy.signal import butter, iirnotch, filtfilt, welch\n",
    "%matplotlib widget\n"
   ]
  },
  {
   "cell_type": "code",
   "execution_count": 2,
   "metadata": {},
   "outputs": [],
   "source": [
    "plt.close(\"all\")  # close all figure windows"
   ]
  },
  {
   "cell_type": "markdown",
   "metadata": {},
   "source": [
    "## Initialization <a   name=\"init\"></a>"
   ]
  },
  {
   "cell_type": "markdown",
   "metadata": {},
   "source": [
    "### Generate signals <a   name=\"gen\"></a>"
   ]
  },
  {
   "cell_type": "markdown",
   "metadata": {},
   "source": [
    "Generation of two sinusoidal signals of different frequencies but same duration and sampling frequency.\n",
    "For both, the amplitude change at mid length (time).\n",
    "\n",
    "- Signal 1 (F=12Hz) starts with an amplitude of  100 (A.U) and change to 10.\n",
    "- Signal 2 (F=20Hz) starts with an amplitude of 20(A.U) and change to 10"
   ]
  },
  {
   "cell_type": "code",
   "execution_count": 3,
   "metadata": {},
   "outputs": [
    {
     "name": "stdout",
     "output_type": "stream",
     "text": [
      "(10000,)\n",
      "7.0\n",
      "10000\n"
     ]
    }
   ],
   "source": [
    "#Signal generation (2 signals)\n",
    "Srate=500\n",
    "length_time=20\n",
    "change_time=length_time/2\n",
    "\n",
    "signal_frequency1=12\n",
    "signal_frequency2=20\n",
    "signal_frequency3=\"12 + 20 \"\n",
    "\n",
    "original_amp_1=100\n",
    "new_amp_1=original_amp_1/10\n",
    "#new_amp_1=original_amp_1\n",
    "\n",
    "original_amp_2=20\n",
    "new_amp_2=original_amp_2/2\n",
    "\n",
    "\n",
    "times,signal_amplitudes1=generate_sine_wave(amplitude=original_amp_1, frequency=signal_frequency1, duration=length_time, \n",
    "                               change_time=change_time, new_amplitude=new_amp_1, sample_rate=Srate)\n",
    "print(np.shape(signal_amplitudes1))\n",
    "times2,signal_amplitudes2=generate_sine_wave(amplitude=original_amp_2, frequency=signal_frequency2, duration=length_time, \n",
    "                               change_time=change_time, new_amplitude=new_amp_2, sample_rate=Srate)\n",
    "\n",
    "signal_mixed_amplitudes=signal_amplitudes1+signal_amplitudes2\n",
    "\n",
    "print(times[3500])\n",
    "print(len(times))\n"
   ]
  },
  {
   "cell_type": "markdown",
   "metadata": {},
   "source": [
    "#### Store signals <a   name=\"storesignals\"></a>"
   ]
  },
  {
   "cell_type": "code",
   "execution_count": 4,
   "metadata": {},
   "outputs": [
    {
     "name": "stdout",
     "output_type": "stream",
     "text": [
      "(10000, 3)\n"
     ]
    }
   ],
   "source": [
    "#stacking the signals as columns of a single 2D array (to be able to use the nearest_timestamps_array_finder and compute_lagged_psd2_all_electrodes functions)\n",
    "signal_electrodes=np.column_stack((signal_amplitudes1,signal_amplitudes2,signal_mixed_amplitudes)) \n",
    "print(signal_electrodes.shape)"
   ]
  },
  {
   "cell_type": "markdown",
   "metadata": {},
   "source": [
    "#### Define markers <a   name=\"markers\"></a>"
   ]
  },
  {
   "cell_type": "markdown",
   "metadata": {},
   "source": [
    "Creation of an array of markers and their timestamps as {column1:timestamp, column2:marker_name} representing the onset of an event.\n",
    "<br>This will serve as reference to PSD calculation.\n",
    "<br>Here only the first 111  marker corresponds to an event, which is the amplitude change of the signalat mid-duration.\n",
    "<br>Nb: The 2 signals have a constant and unique freqency (different from eachother though)"
   ]
  },
  {
   "cell_type": "code",
   "execution_count": 5,
   "metadata": {},
   "outputs": [],
   "source": [
    "#create table of event markers and their timestamps\n",
    "marker_timestamps=np.array([(change_time-3,100),(change_time,111),(change_time+3,100),(change_time+6,111)])"
   ]
  },
  {
   "cell_type": "markdown",
   "metadata": {},
   "source": [
    "### Generate noise <a   name=\"noise\"></a>"
   ]
  },
  {
   "cell_type": "code",
   "execution_count": 6,
   "metadata": {},
   "outputs": [
    {
     "name": "stdout",
     "output_type": "stream",
     "text": [
      "10000\n",
      "(5001,)\n"
     ]
    }
   ],
   "source": [
    "#Generate noise\n",
    "noise=np.random.uniform(low=-5,high=5,size=len(signal_amplitudes1))\n",
    "print(len(noise))\n",
    "\n",
    "uwu,iwi=fft_compute_on_single_channel2(signal=noise,Fs=Srate)\n",
    "print(np.shape(uwu))"
   ]
  },
  {
   "cell_type": "markdown",
   "metadata": {},
   "source": [
    "#### Plot noise <a   name=\"noiseplot\"></a>"
   ]
  },
  {
   "cell_type": "code",
   "execution_count": 9,
   "metadata": {},
   "outputs": [
    {
     "ename": "NotImplementedError",
     "evalue": "Cannot ",
     "output_type": "error",
     "traceback": [
      "\u001b[1;31m---------------------------------------------------------------------------\u001b[0m",
      "\u001b[1;31mKeyError\u001b[0m                                  Traceback (most recent call last)",
      "File \u001b[1;32m~\\AppData\\Roaming\\Python\\Python310\\site-packages\\traitlets\\traitlets.py:645\u001b[0m, in \u001b[0;36mTraitType.get\u001b[1;34m(self, obj, cls)\u001b[0m\n\u001b[0;32m    644\u001b[0m \u001b[38;5;28;01mtry\u001b[39;00m:\n\u001b[1;32m--> 645\u001b[0m     value \u001b[38;5;241m=\u001b[39m \u001b[43mobj\u001b[49m\u001b[38;5;241;43m.\u001b[39;49m\u001b[43m_trait_values\u001b[49m\u001b[43m[\u001b[49m\u001b[38;5;28;43mself\u001b[39;49m\u001b[38;5;241;43m.\u001b[39;49m\u001b[43mname\u001b[49m\u001b[43m]\u001b[49m\n\u001b[0;32m    646\u001b[0m \u001b[38;5;28;01mexcept\u001b[39;00m \u001b[38;5;167;01mKeyError\u001b[39;00m:\n\u001b[0;32m    647\u001b[0m     \u001b[38;5;66;03m# Check for a dynamic initializer.\u001b[39;00m\n",
      "\u001b[1;31mKeyError\u001b[0m: 'layout'",
      "\nDuring handling of the above exception, another exception occurred:\n",
      "\u001b[1;31mNotImplementedError\u001b[0m                       Traceback (most recent call last)",
      "Cell \u001b[1;32mIn[9], line 1\u001b[0m\n\u001b[1;32m----> 1\u001b[0m figure,axis\u001b[38;5;241m=\u001b[39m\u001b[43mplt\u001b[49m\u001b[38;5;241;43m.\u001b[39;49m\u001b[43msubplots\u001b[49m\u001b[43m(\u001b[49m\u001b[43mnrows\u001b[49m\u001b[38;5;241;43m=\u001b[39;49m\u001b[38;5;241;43m2\u001b[39;49m\u001b[43m,\u001b[49m\u001b[43mnum\u001b[49m\u001b[38;5;241;43m=\u001b[39;49m\u001b[38;5;241;43m1\u001b[39;49m\u001b[43m,\u001b[49m\u001b[43mlayout\u001b[49m\u001b[38;5;241;43m=\u001b[39;49m\u001b[38;5;124;43m\"\u001b[39;49m\u001b[38;5;124;43mconstrained\u001b[39;49m\u001b[38;5;124;43m\"\u001b[39;49m\u001b[43m)\u001b[49m\n\u001b[0;32m      2\u001b[0m axis[\u001b[38;5;241m0\u001b[39m]\u001b[38;5;241m.\u001b[39mplot(times,noise)\n\u001b[0;32m      3\u001b[0m axis[\u001b[38;5;241m0\u001b[39m]\u001b[38;5;241m.\u001b[39mset_xlabel(\u001b[38;5;124m\"\u001b[39m\u001b[38;5;124mTime (s)\u001b[39m\u001b[38;5;124m\"\u001b[39m)\n",
      "File \u001b[1;32mC:\\DEV\\anaconda3\\lib\\site-packages\\matplotlib\\pyplot.py:1501\u001b[0m, in \u001b[0;36msubplots\u001b[1;34m(nrows, ncols, sharex, sharey, squeeze, width_ratios, height_ratios, subplot_kw, gridspec_kw, **fig_kw)\u001b[0m\n\u001b[0;32m   1355\u001b[0m \u001b[38;5;28;01mdef\u001b[39;00m \u001b[38;5;21msubplots\u001b[39m(nrows\u001b[38;5;241m=\u001b[39m\u001b[38;5;241m1\u001b[39m, ncols\u001b[38;5;241m=\u001b[39m\u001b[38;5;241m1\u001b[39m, \u001b[38;5;241m*\u001b[39m, sharex\u001b[38;5;241m=\u001b[39m\u001b[38;5;28;01mFalse\u001b[39;00m, sharey\u001b[38;5;241m=\u001b[39m\u001b[38;5;28;01mFalse\u001b[39;00m, squeeze\u001b[38;5;241m=\u001b[39m\u001b[38;5;28;01mTrue\u001b[39;00m,\n\u001b[0;32m   1356\u001b[0m              width_ratios\u001b[38;5;241m=\u001b[39m\u001b[38;5;28;01mNone\u001b[39;00m, height_ratios\u001b[38;5;241m=\u001b[39m\u001b[38;5;28;01mNone\u001b[39;00m,\n\u001b[0;32m   1357\u001b[0m              subplot_kw\u001b[38;5;241m=\u001b[39m\u001b[38;5;28;01mNone\u001b[39;00m, gridspec_kw\u001b[38;5;241m=\u001b[39m\u001b[38;5;28;01mNone\u001b[39;00m, \u001b[38;5;241m*\u001b[39m\u001b[38;5;241m*\u001b[39mfig_kw):\n\u001b[0;32m   1358\u001b[0m     \u001b[38;5;124;03m\"\"\"\u001b[39;00m\n\u001b[0;32m   1359\u001b[0m \u001b[38;5;124;03m    Create a figure and a set of subplots.\u001b[39;00m\n\u001b[0;32m   1360\u001b[0m \n\u001b[1;32m   (...)\u001b[0m\n\u001b[0;32m   1499\u001b[0m \n\u001b[0;32m   1500\u001b[0m \u001b[38;5;124;03m    \"\"\"\u001b[39;00m\n\u001b[1;32m-> 1501\u001b[0m     fig \u001b[38;5;241m=\u001b[39m figure(\u001b[38;5;241m*\u001b[39m\u001b[38;5;241m*\u001b[39mfig_kw)\n\u001b[0;32m   1502\u001b[0m     axs \u001b[38;5;241m=\u001b[39m fig\u001b[38;5;241m.\u001b[39msubplots(nrows\u001b[38;5;241m=\u001b[39mnrows, ncols\u001b[38;5;241m=\u001b[39mncols, sharex\u001b[38;5;241m=\u001b[39msharex, sharey\u001b[38;5;241m=\u001b[39msharey,\n\u001b[0;32m   1503\u001b[0m                        squeeze\u001b[38;5;241m=\u001b[39msqueeze, subplot_kw\u001b[38;5;241m=\u001b[39msubplot_kw,\n\u001b[0;32m   1504\u001b[0m                        gridspec_kw\u001b[38;5;241m=\u001b[39mgridspec_kw, height_ratios\u001b[38;5;241m=\u001b[39mheight_ratios,\n\u001b[0;32m   1505\u001b[0m                        width_ratios\u001b[38;5;241m=\u001b[39mwidth_ratios)\n\u001b[0;32m   1506\u001b[0m     \u001b[38;5;28;01mreturn\u001b[39;00m fig, axs\n",
      "File \u001b[1;32mC:\\DEV\\anaconda3\\lib\\site-packages\\matplotlib\\_api\\deprecation.py:454\u001b[0m, in \u001b[0;36mmake_keyword_only.<locals>.wrapper\u001b[1;34m(*args, **kwargs)\u001b[0m\n\u001b[0;32m    448\u001b[0m \u001b[38;5;28;01mif\u001b[39;00m \u001b[38;5;28mlen\u001b[39m(args) \u001b[38;5;241m>\u001b[39m name_idx:\n\u001b[0;32m    449\u001b[0m     warn_deprecated(\n\u001b[0;32m    450\u001b[0m         since, message\u001b[38;5;241m=\u001b[39m\u001b[38;5;124m\"\u001b[39m\u001b[38;5;124mPassing the \u001b[39m\u001b[38;5;132;01m%(name)s\u001b[39;00m\u001b[38;5;124m \u001b[39m\u001b[38;5;132;01m%(obj_type)s\u001b[39;00m\u001b[38;5;124m \u001b[39m\u001b[38;5;124m\"\u001b[39m\n\u001b[0;32m    451\u001b[0m         \u001b[38;5;124m\"\u001b[39m\u001b[38;5;124mpositionally is deprecated since Matplotlib \u001b[39m\u001b[38;5;132;01m%(since)s\u001b[39;00m\u001b[38;5;124m; the \u001b[39m\u001b[38;5;124m\"\u001b[39m\n\u001b[0;32m    452\u001b[0m         \u001b[38;5;124m\"\u001b[39m\u001b[38;5;124mparameter will become keyword-only \u001b[39m\u001b[38;5;132;01m%(removal)s\u001b[39;00m\u001b[38;5;124m.\u001b[39m\u001b[38;5;124m\"\u001b[39m,\n\u001b[0;32m    453\u001b[0m         name\u001b[38;5;241m=\u001b[39mname, obj_type\u001b[38;5;241m=\u001b[39m\u001b[38;5;124mf\u001b[39m\u001b[38;5;124m\"\u001b[39m\u001b[38;5;124mparameter of \u001b[39m\u001b[38;5;132;01m{\u001b[39;00mfunc\u001b[38;5;241m.\u001b[39m\u001b[38;5;18m__name__\u001b[39m\u001b[38;5;132;01m}\u001b[39;00m\u001b[38;5;124m()\u001b[39m\u001b[38;5;124m\"\u001b[39m)\n\u001b[1;32m--> 454\u001b[0m \u001b[38;5;28;01mreturn\u001b[39;00m func(\u001b[38;5;241m*\u001b[39margs, \u001b[38;5;241m*\u001b[39m\u001b[38;5;241m*\u001b[39mkwargs)\n",
      "File \u001b[1;32mC:\\DEV\\anaconda3\\lib\\site-packages\\matplotlib\\pyplot.py:840\u001b[0m, in \u001b[0;36mfigure\u001b[1;34m(num, figsize, dpi, facecolor, edgecolor, frameon, FigureClass, clear, **kwargs)\u001b[0m\n\u001b[0;32m    830\u001b[0m \u001b[38;5;28;01mif\u001b[39;00m \u001b[38;5;28mlen\u001b[39m(allnums) \u001b[38;5;241m==\u001b[39m max_open_warning \u001b[38;5;241m>\u001b[39m\u001b[38;5;241m=\u001b[39m \u001b[38;5;241m1\u001b[39m:\n\u001b[0;32m    831\u001b[0m     _api\u001b[38;5;241m.\u001b[39mwarn_external(\n\u001b[0;32m    832\u001b[0m         \u001b[38;5;124mf\u001b[39m\u001b[38;5;124m\"\u001b[39m\u001b[38;5;124mMore than \u001b[39m\u001b[38;5;132;01m{\u001b[39;00mmax_open_warning\u001b[38;5;132;01m}\u001b[39;00m\u001b[38;5;124m figures have been opened. \u001b[39m\u001b[38;5;124m\"\u001b[39m\n\u001b[0;32m    833\u001b[0m         \u001b[38;5;124mf\u001b[39m\u001b[38;5;124m\"\u001b[39m\u001b[38;5;124mFigures created through the pyplot interface \u001b[39m\u001b[38;5;124m\"\u001b[39m\n\u001b[1;32m   (...)\u001b[0m\n\u001b[0;32m    837\u001b[0m         \u001b[38;5;124mf\u001b[39m\u001b[38;5;124m\"\u001b[39m\u001b[38;5;124mConsider using `matplotlib.pyplot.close()`.\u001b[39m\u001b[38;5;124m\"\u001b[39m,\n\u001b[0;32m    838\u001b[0m         \u001b[38;5;167;01mRuntimeWarning\u001b[39;00m)\n\u001b[1;32m--> 840\u001b[0m manager \u001b[38;5;241m=\u001b[39m new_figure_manager(\n\u001b[0;32m    841\u001b[0m     num, figsize\u001b[38;5;241m=\u001b[39mfigsize, dpi\u001b[38;5;241m=\u001b[39mdpi,\n\u001b[0;32m    842\u001b[0m     facecolor\u001b[38;5;241m=\u001b[39mfacecolor, edgecolor\u001b[38;5;241m=\u001b[39medgecolor, frameon\u001b[38;5;241m=\u001b[39mframeon,\n\u001b[0;32m    843\u001b[0m     FigureClass\u001b[38;5;241m=\u001b[39mFigureClass, \u001b[38;5;241m*\u001b[39m\u001b[38;5;241m*\u001b[39mkwargs)\n\u001b[0;32m    844\u001b[0m fig \u001b[38;5;241m=\u001b[39m manager\u001b[38;5;241m.\u001b[39mcanvas\u001b[38;5;241m.\u001b[39mfigure\n\u001b[0;32m    845\u001b[0m \u001b[38;5;28;01mif\u001b[39;00m fig_label:\n",
      "File \u001b[1;32mC:\\DEV\\anaconda3\\lib\\site-packages\\matplotlib\\pyplot.py:384\u001b[0m, in \u001b[0;36mnew_figure_manager\u001b[1;34m(*args, **kwargs)\u001b[0m\n\u001b[0;32m    382\u001b[0m \u001b[38;5;124;03m\"\"\"Create a new figure manager instance.\"\"\"\u001b[39;00m\n\u001b[0;32m    383\u001b[0m _warn_if_gui_out_of_main_thread()\n\u001b[1;32m--> 384\u001b[0m \u001b[38;5;28;01mreturn\u001b[39;00m _get_backend_mod()\u001b[38;5;241m.\u001b[39mnew_figure_manager(\u001b[38;5;241m*\u001b[39margs, \u001b[38;5;241m*\u001b[39m\u001b[38;5;241m*\u001b[39mkwargs)\n",
      "File \u001b[1;32mC:\\DEV\\anaconda3\\lib\\site-packages\\matplotlib\\backend_bases.py:3574\u001b[0m, in \u001b[0;36m_Backend.new_figure_manager\u001b[1;34m(cls, num, *args, **kwargs)\u001b[0m\n\u001b[0;32m   3572\u001b[0m fig_cls \u001b[38;5;241m=\u001b[39m kwargs\u001b[38;5;241m.\u001b[39mpop(\u001b[38;5;124m'\u001b[39m\u001b[38;5;124mFigureClass\u001b[39m\u001b[38;5;124m'\u001b[39m, Figure)\n\u001b[0;32m   3573\u001b[0m fig \u001b[38;5;241m=\u001b[39m fig_cls(\u001b[38;5;241m*\u001b[39margs, \u001b[38;5;241m*\u001b[39m\u001b[38;5;241m*\u001b[39mkwargs)\n\u001b[1;32m-> 3574\u001b[0m \u001b[38;5;28;01mreturn\u001b[39;00m \u001b[38;5;28;43mcls\u001b[39;49m\u001b[38;5;241;43m.\u001b[39;49m\u001b[43mnew_figure_manager_given_figure\u001b[49m\u001b[43m(\u001b[49m\u001b[43mnum\u001b[49m\u001b[43m,\u001b[49m\u001b[43m \u001b[49m\u001b[43mfig\u001b[49m\u001b[43m)\u001b[49m\n",
      "File \u001b[1;32mC:\\DEV\\anaconda3\\lib\\site-packages\\ipympl\\backend_nbagg.py:484\u001b[0m, in \u001b[0;36m_Backend_ipympl.new_figure_manager_given_figure\u001b[1;34m(num, figure)\u001b[0m\n\u001b[0;32m    482\u001b[0m \u001b[38;5;129m@staticmethod\u001b[39m\n\u001b[0;32m    483\u001b[0m \u001b[38;5;28;01mdef\u001b[39;00m \u001b[38;5;21mnew_figure_manager_given_figure\u001b[39m(num, figure):\n\u001b[1;32m--> 484\u001b[0m     canvas \u001b[38;5;241m=\u001b[39m \u001b[43mCanvas\u001b[49m\u001b[43m(\u001b[49m\u001b[43mfigure\u001b[49m\u001b[43m)\u001b[49m\n\u001b[0;32m    485\u001b[0m     \u001b[38;5;28;01mif\u001b[39;00m \u001b[38;5;124m'\u001b[39m\u001b[38;5;124mnbagg.transparent\u001b[39m\u001b[38;5;124m'\u001b[39m \u001b[38;5;129;01min\u001b[39;00m rcParams \u001b[38;5;129;01mand\u001b[39;00m rcParams[\u001b[38;5;124m'\u001b[39m\u001b[38;5;124mnbagg.transparent\u001b[39m\u001b[38;5;124m'\u001b[39m]:\n\u001b[0;32m    486\u001b[0m         figure\u001b[38;5;241m.\u001b[39mpatch\u001b[38;5;241m.\u001b[39mset_alpha(\u001b[38;5;241m0\u001b[39m)\n",
      "File \u001b[1;32mC:\\DEV\\anaconda3\\lib\\site-packages\\ipympl\\backend_nbagg.py:238\u001b[0m, in \u001b[0;36mCanvas.__init__\u001b[1;34m(self, figure, *args, **kwargs)\u001b[0m\n\u001b[0;32m    237\u001b[0m \u001b[38;5;28;01mdef\u001b[39;00m \u001b[38;5;21m__init__\u001b[39m(\u001b[38;5;28mself\u001b[39m, figure, \u001b[38;5;241m*\u001b[39margs, \u001b[38;5;241m*\u001b[39m\u001b[38;5;241m*\u001b[39mkwargs):\n\u001b[1;32m--> 238\u001b[0m     DOMWidget\u001b[38;5;241m.\u001b[39m\u001b[38;5;21m__init__\u001b[39m(\u001b[38;5;28mself\u001b[39m, \u001b[38;5;241m*\u001b[39margs, \u001b[38;5;241m*\u001b[39m\u001b[38;5;241m*\u001b[39mkwargs)\n\u001b[0;32m    239\u001b[0m     FigureCanvasWebAggCore\u001b[38;5;241m.\u001b[39m\u001b[38;5;21m__init__\u001b[39m(\u001b[38;5;28mself\u001b[39m, figure, \u001b[38;5;241m*\u001b[39margs, \u001b[38;5;241m*\u001b[39m\u001b[38;5;241m*\u001b[39mkwargs)\n\u001b[0;32m    241\u001b[0m     \u001b[38;5;28mself\u001b[39m\u001b[38;5;241m.\u001b[39mon_msg(\u001b[38;5;28mself\u001b[39m\u001b[38;5;241m.\u001b[39m_handle_message)\n",
      "File \u001b[1;32mC:\\DEV\\anaconda3\\lib\\site-packages\\ipywidgets\\widgets\\widget.py:504\u001b[0m, in \u001b[0;36mWidget.__init__\u001b[1;34m(self, **kwargs)\u001b[0m\n\u001b[0;32m    501\u001b[0m \u001b[38;5;28msuper\u001b[39m()\u001b[38;5;241m.\u001b[39m\u001b[38;5;21m__init__\u001b[39m(\u001b[38;5;241m*\u001b[39m\u001b[38;5;241m*\u001b[39mkwargs)\n\u001b[0;32m    503\u001b[0m Widget\u001b[38;5;241m.\u001b[39m_call_widget_constructed(\u001b[38;5;28mself\u001b[39m)\n\u001b[1;32m--> 504\u001b[0m \u001b[38;5;28;43mself\u001b[39;49m\u001b[38;5;241;43m.\u001b[39;49m\u001b[43mopen\u001b[49m\u001b[43m(\u001b[49m\u001b[43m)\u001b[49m\n",
      "File \u001b[1;32mC:\\DEV\\anaconda3\\lib\\site-packages\\ipywidgets\\widgets\\widget.py:517\u001b[0m, in \u001b[0;36mWidget.open\u001b[1;34m(self)\u001b[0m\n\u001b[0;32m    515\u001b[0m \u001b[38;5;124;03m\"\"\"Open a comm to the frontend if one isn't already open.\"\"\"\u001b[39;00m\n\u001b[0;32m    516\u001b[0m \u001b[38;5;28;01mif\u001b[39;00m \u001b[38;5;28mself\u001b[39m\u001b[38;5;241m.\u001b[39mcomm \u001b[38;5;129;01mis\u001b[39;00m \u001b[38;5;28;01mNone\u001b[39;00m:\n\u001b[1;32m--> 517\u001b[0m     state, buffer_paths, buffers \u001b[38;5;241m=\u001b[39m _remove_buffers(\u001b[38;5;28;43mself\u001b[39;49m\u001b[38;5;241;43m.\u001b[39;49m\u001b[43mget_state\u001b[49m\u001b[43m(\u001b[49m\u001b[43m)\u001b[49m)\n\u001b[0;32m    519\u001b[0m     args \u001b[38;5;241m=\u001b[39m \u001b[38;5;28mdict\u001b[39m(target_name\u001b[38;5;241m=\u001b[39m\u001b[38;5;124m'\u001b[39m\u001b[38;5;124mjupyter.widget\u001b[39m\u001b[38;5;124m'\u001b[39m,\n\u001b[0;32m    520\u001b[0m                 data\u001b[38;5;241m=\u001b[39m{\u001b[38;5;124m'\u001b[39m\u001b[38;5;124mstate\u001b[39m\u001b[38;5;124m'\u001b[39m: state, \u001b[38;5;124m'\u001b[39m\u001b[38;5;124mbuffer_paths\u001b[39m\u001b[38;5;124m'\u001b[39m: buffer_paths},\n\u001b[0;32m    521\u001b[0m                 buffers\u001b[38;5;241m=\u001b[39mbuffers,\n\u001b[0;32m    522\u001b[0m                 metadata\u001b[38;5;241m=\u001b[39m{\u001b[38;5;124m'\u001b[39m\u001b[38;5;124mversion\u001b[39m\u001b[38;5;124m'\u001b[39m: __protocol_version__}\n\u001b[0;32m    523\u001b[0m                 )\n\u001b[0;32m    524\u001b[0m     \u001b[38;5;28;01mif\u001b[39;00m \u001b[38;5;28mself\u001b[39m\u001b[38;5;241m.\u001b[39m_model_id \u001b[38;5;129;01mis\u001b[39;00m \u001b[38;5;129;01mnot\u001b[39;00m \u001b[38;5;28;01mNone\u001b[39;00m:\n",
      "File \u001b[1;32mC:\\DEV\\anaconda3\\lib\\site-packages\\ipywidgets\\widgets\\widget.py:615\u001b[0m, in \u001b[0;36mWidget.get_state\u001b[1;34m(self, key, drop_defaults)\u001b[0m\n\u001b[0;32m    613\u001b[0m \u001b[38;5;28;01mfor\u001b[39;00m k \u001b[38;5;129;01min\u001b[39;00m keys:\n\u001b[0;32m    614\u001b[0m     to_json \u001b[38;5;241m=\u001b[39m \u001b[38;5;28mself\u001b[39m\u001b[38;5;241m.\u001b[39mtrait_metadata(k, \u001b[38;5;124m'\u001b[39m\u001b[38;5;124mto_json\u001b[39m\u001b[38;5;124m'\u001b[39m, \u001b[38;5;28mself\u001b[39m\u001b[38;5;241m.\u001b[39m_trait_to_json)\n\u001b[1;32m--> 615\u001b[0m     value \u001b[38;5;241m=\u001b[39m to_json(\u001b[38;5;28;43mgetattr\u001b[39;49m\u001b[43m(\u001b[49m\u001b[38;5;28;43mself\u001b[39;49m\u001b[43m,\u001b[49m\u001b[43m \u001b[49m\u001b[43mk\u001b[49m\u001b[43m)\u001b[49m, \u001b[38;5;28mself\u001b[39m)\n\u001b[0;32m    616\u001b[0m     \u001b[38;5;28;01mif\u001b[39;00m \u001b[38;5;129;01mnot\u001b[39;00m drop_defaults \u001b[38;5;129;01mor\u001b[39;00m \u001b[38;5;129;01mnot\u001b[39;00m \u001b[38;5;28mself\u001b[39m\u001b[38;5;241m.\u001b[39m_compare(value, traits[k]\u001b[38;5;241m.\u001b[39mdefault_value):\n\u001b[0;32m    617\u001b[0m         state[k] \u001b[38;5;241m=\u001b[39m value\n",
      "File \u001b[1;32m~\\AppData\\Roaming\\Python\\Python310\\site-packages\\traitlets\\traitlets.py:686\u001b[0m, in \u001b[0;36mTraitType.__get__\u001b[1;34m(self, obj, cls)\u001b[0m\n\u001b[0;32m    684\u001b[0m     \u001b[38;5;28;01mreturn\u001b[39;00m \u001b[38;5;28mself\u001b[39m\n\u001b[0;32m    685\u001b[0m \u001b[38;5;28;01melse\u001b[39;00m:\n\u001b[1;32m--> 686\u001b[0m     \u001b[38;5;28;01mreturn\u001b[39;00m \u001b[38;5;28;43mself\u001b[39;49m\u001b[38;5;241;43m.\u001b[39;49m\u001b[43mget\u001b[49m\u001b[43m(\u001b[49m\u001b[43mobj\u001b[49m\u001b[43m,\u001b[49m\u001b[43m \u001b[49m\u001b[38;5;28;43mcls\u001b[39;49m\u001b[43m)\u001b[49m\n",
      "File \u001b[1;32m~\\AppData\\Roaming\\Python\\Python310\\site-packages\\traitlets\\traitlets.py:648\u001b[0m, in \u001b[0;36mTraitType.get\u001b[1;34m(self, obj, cls)\u001b[0m\n\u001b[0;32m    645\u001b[0m     value \u001b[38;5;241m=\u001b[39m obj\u001b[38;5;241m.\u001b[39m_trait_values[\u001b[38;5;28mself\u001b[39m\u001b[38;5;241m.\u001b[39mname]\n\u001b[0;32m    646\u001b[0m \u001b[38;5;28;01mexcept\u001b[39;00m \u001b[38;5;167;01mKeyError\u001b[39;00m:\n\u001b[0;32m    647\u001b[0m     \u001b[38;5;66;03m# Check for a dynamic initializer.\u001b[39;00m\n\u001b[1;32m--> 648\u001b[0m     default \u001b[38;5;241m=\u001b[39m \u001b[43mobj\u001b[49m\u001b[38;5;241;43m.\u001b[39;49m\u001b[43mtrait_defaults\u001b[49m\u001b[43m(\u001b[49m\u001b[38;5;28;43mself\u001b[39;49m\u001b[38;5;241;43m.\u001b[39;49m\u001b[43mname\u001b[49m\u001b[43m)\u001b[49m\n\u001b[0;32m    649\u001b[0m     \u001b[38;5;28;01mif\u001b[39;00m default \u001b[38;5;129;01mis\u001b[39;00m Undefined:\n\u001b[0;32m    650\u001b[0m         warn(\n\u001b[0;32m    651\u001b[0m             \u001b[38;5;124m\"\u001b[39m\u001b[38;5;124mExplicit using of Undefined as the default value \u001b[39m\u001b[38;5;124m\"\u001b[39m\n\u001b[0;32m    652\u001b[0m             \u001b[38;5;124m\"\u001b[39m\u001b[38;5;124mis deprecated in traitlets 5.0, and may cause \u001b[39m\u001b[38;5;124m\"\u001b[39m\n\u001b[1;32m   (...)\u001b[0m\n\u001b[0;32m    655\u001b[0m             stacklevel\u001b[38;5;241m=\u001b[39m\u001b[38;5;241m2\u001b[39m,\n\u001b[0;32m    656\u001b[0m         )\n",
      "File \u001b[1;32m~\\AppData\\Roaming\\Python\\Python310\\site-packages\\traitlets\\traitlets.py:1752\u001b[0m, in \u001b[0;36mHasTraits.trait_defaults\u001b[1;34m(self, *names, **metadata)\u001b[0m\n\u001b[0;32m   1749\u001b[0m         \u001b[38;5;28;01mraise\u001b[39;00m TraitError(\u001b[38;5;124mf\u001b[39m\u001b[38;5;124m\"\u001b[39m\u001b[38;5;124m'\u001b[39m\u001b[38;5;132;01m{\u001b[39;00mn\u001b[38;5;132;01m}\u001b[39;00m\u001b[38;5;124m'\u001b[39m\u001b[38;5;124m is not a trait of \u001b[39m\u001b[38;5;124m'\u001b[39m\u001b[38;5;132;01m{\u001b[39;00m\u001b[38;5;28mtype\u001b[39m(\u001b[38;5;28mself\u001b[39m)\u001b[38;5;241m.\u001b[39m\u001b[38;5;18m__name__\u001b[39m\u001b[38;5;132;01m}\u001b[39;00m\u001b[38;5;124m'\u001b[39m\u001b[38;5;124m instances\u001b[39m\u001b[38;5;124m\"\u001b[39m)\n\u001b[0;32m   1751\u001b[0m \u001b[38;5;28;01mif\u001b[39;00m \u001b[38;5;28mlen\u001b[39m(names) \u001b[38;5;241m==\u001b[39m \u001b[38;5;241m1\u001b[39m \u001b[38;5;129;01mand\u001b[39;00m \u001b[38;5;28mlen\u001b[39m(metadata) \u001b[38;5;241m==\u001b[39m \u001b[38;5;241m0\u001b[39m:\n\u001b[1;32m-> 1752\u001b[0m     \u001b[38;5;28;01mreturn\u001b[39;00m \u001b[38;5;28;43mself\u001b[39;49m\u001b[38;5;241;43m.\u001b[39;49m\u001b[43m_get_trait_default_generator\u001b[49m\u001b[43m(\u001b[49m\u001b[43mnames\u001b[49m\u001b[43m[\u001b[49m\u001b[38;5;241;43m0\u001b[39;49m\u001b[43m]\u001b[49m\u001b[43m)\u001b[49m\u001b[43m(\u001b[49m\u001b[38;5;28;43mself\u001b[39;49m\u001b[43m)\u001b[49m\n\u001b[0;32m   1754\u001b[0m trait_names \u001b[38;5;241m=\u001b[39m \u001b[38;5;28mself\u001b[39m\u001b[38;5;241m.\u001b[39mtrait_names(\u001b[38;5;241m*\u001b[39m\u001b[38;5;241m*\u001b[39mmetadata)\n\u001b[0;32m   1755\u001b[0m trait_names\u001b[38;5;241m.\u001b[39mextend(names)\n",
      "File \u001b[1;32m~\\AppData\\Roaming\\Python\\Python310\\site-packages\\traitlets\\traitlets.py:616\u001b[0m, in \u001b[0;36mTraitType.default\u001b[1;34m(self, obj)\u001b[0m\n\u001b[0;32m    614\u001b[0m     \u001b[38;5;28;01mreturn\u001b[39;00m \u001b[38;5;28mself\u001b[39m\u001b[38;5;241m.\u001b[39mdefault_value\n\u001b[0;32m    615\u001b[0m \u001b[38;5;28;01melif\u001b[39;00m \u001b[38;5;28mhasattr\u001b[39m(\u001b[38;5;28mself\u001b[39m, \u001b[38;5;124m\"\u001b[39m\u001b[38;5;124mmake_dynamic_default\u001b[39m\u001b[38;5;124m\"\u001b[39m):\n\u001b[1;32m--> 616\u001b[0m     \u001b[38;5;28;01mreturn\u001b[39;00m \u001b[38;5;28;43mself\u001b[39;49m\u001b[38;5;241;43m.\u001b[39;49m\u001b[43mmake_dynamic_default\u001b[49m\u001b[43m(\u001b[49m\u001b[43m)\u001b[49m\n\u001b[0;32m    617\u001b[0m \u001b[38;5;28;01melse\u001b[39;00m:\n\u001b[0;32m    618\u001b[0m     \u001b[38;5;66;03m# Undefined will raise in TraitType.get\u001b[39;00m\n\u001b[0;32m    619\u001b[0m     \u001b[38;5;28;01mreturn\u001b[39;00m \u001b[38;5;28mself\u001b[39m\u001b[38;5;241m.\u001b[39mdefault_value\n",
      "File \u001b[1;32mC:\\DEV\\anaconda3\\lib\\site-packages\\ipywidgets\\widgets\\trait_types.py:365\u001b[0m, in \u001b[0;36mInstanceDict.make_dynamic_default\u001b[1;34m(self)\u001b[0m\n\u001b[0;32m    364\u001b[0m \u001b[38;5;28;01mdef\u001b[39;00m \u001b[38;5;21mmake_dynamic_default\u001b[39m(\u001b[38;5;28mself\u001b[39m):\n\u001b[1;32m--> 365\u001b[0m     \u001b[38;5;28;01mreturn\u001b[39;00m \u001b[38;5;28mself\u001b[39m\u001b[38;5;241m.\u001b[39mklass(\u001b[38;5;241m*\u001b[39m(\u001b[38;5;28mself\u001b[39m\u001b[38;5;241m.\u001b[39mdefault_args \u001b[38;5;129;01mor\u001b[39;00m ()),\n\u001b[0;32m    366\u001b[0m                       \u001b[38;5;241m*\u001b[39m\u001b[38;5;241m*\u001b[39m(\u001b[38;5;28mself\u001b[39m\u001b[38;5;241m.\u001b[39mdefault_kwargs \u001b[38;5;129;01mor\u001b[39;00m {}))\n",
      "File \u001b[1;32mC:\\DEV\\anaconda3\\lib\\site-packages\\ipywidgets\\widgets\\widget_layout.py:86\u001b[0m, in \u001b[0;36mLayout.__init__\u001b[1;34m(self, **kwargs)\u001b[0m\n\u001b[0;32m     83\u001b[0m     \u001b[38;5;28;01mfor\u001b[39;00m side \u001b[38;5;129;01min\u001b[39;00m [\u001b[38;5;124m'\u001b[39m\u001b[38;5;124mtop\u001b[39m\u001b[38;5;124m'\u001b[39m, \u001b[38;5;124m'\u001b[39m\u001b[38;5;124mright\u001b[39m\u001b[38;5;124m'\u001b[39m, \u001b[38;5;124m'\u001b[39m\u001b[38;5;124mbottom\u001b[39m\u001b[38;5;124m'\u001b[39m, \u001b[38;5;124m'\u001b[39m\u001b[38;5;124mleft\u001b[39m\u001b[38;5;124m'\u001b[39m]:\n\u001b[0;32m     84\u001b[0m         kwargs\u001b[38;5;241m.\u001b[39msetdefault(\u001b[38;5;124mf\u001b[39m\u001b[38;5;124m'\u001b[39m\u001b[38;5;124mborder_\u001b[39m\u001b[38;5;132;01m{\u001b[39;00mside\u001b[38;5;132;01m}\u001b[39;00m\u001b[38;5;124m'\u001b[39m, border)\n\u001b[1;32m---> 86\u001b[0m \u001b[38;5;28msuper\u001b[39m()\u001b[38;5;241m.\u001b[39m\u001b[38;5;21m__init__\u001b[39m(\u001b[38;5;241m*\u001b[39m\u001b[38;5;241m*\u001b[39mkwargs)\n",
      "File \u001b[1;32mC:\\DEV\\anaconda3\\lib\\site-packages\\ipywidgets\\widgets\\widget.py:504\u001b[0m, in \u001b[0;36mWidget.__init__\u001b[1;34m(self, **kwargs)\u001b[0m\n\u001b[0;32m    501\u001b[0m \u001b[38;5;28msuper\u001b[39m()\u001b[38;5;241m.\u001b[39m\u001b[38;5;21m__init__\u001b[39m(\u001b[38;5;241m*\u001b[39m\u001b[38;5;241m*\u001b[39mkwargs)\n\u001b[0;32m    503\u001b[0m Widget\u001b[38;5;241m.\u001b[39m_call_widget_constructed(\u001b[38;5;28mself\u001b[39m)\n\u001b[1;32m--> 504\u001b[0m \u001b[38;5;28;43mself\u001b[39;49m\u001b[38;5;241;43m.\u001b[39;49m\u001b[43mopen\u001b[49m\u001b[43m(\u001b[49m\u001b[43m)\u001b[49m\n",
      "File \u001b[1;32mC:\\DEV\\anaconda3\\lib\\site-packages\\ipywidgets\\widgets\\widget.py:535\u001b[0m, in \u001b[0;36mWidget.open\u001b[1;34m(self)\u001b[0m\n\u001b[0;32m    531\u001b[0m         \u001b[38;5;28;01mfrom\u001b[39;00m \u001b[38;5;21;01mipykernel\u001b[39;00m\u001b[38;5;21;01m.\u001b[39;00m\u001b[38;5;21;01mcomm\u001b[39;00m \u001b[38;5;28;01mimport\u001b[39;00m Comm\n\u001b[0;32m    533\u001b[0m         \u001b[38;5;28;01mreturn\u001b[39;00m Comm(\u001b[38;5;241m*\u001b[39m\u001b[38;5;241m*\u001b[39mkwargs)\n\u001b[1;32m--> 535\u001b[0m \u001b[38;5;28mself\u001b[39m\u001b[38;5;241m.\u001b[39mcomm \u001b[38;5;241m=\u001b[39m create_comm(\u001b[38;5;241m*\u001b[39m\u001b[38;5;241m*\u001b[39margs)\n",
      "File \u001b[1;32mC:\\DEV\\anaconda3\\lib\\site-packages\\comm\\__init__.py:27\u001b[0m, in \u001b[0;36m_create_comm\u001b[1;34m(*args, **kwargs)\u001b[0m\n\u001b[0;32m     22\u001b[0m \u001b[38;5;28;01mdef\u001b[39;00m \u001b[38;5;21m_create_comm\u001b[39m(\u001b[38;5;241m*\u001b[39margs, \u001b[38;5;241m*\u001b[39m\u001b[38;5;241m*\u001b[39mkwargs):\n\u001b[0;32m     23\u001b[0m     \u001b[38;5;124;03m\"\"\"Create a Comm.\u001b[39;00m\n\u001b[0;32m     24\u001b[0m \n\u001b[0;32m     25\u001b[0m \u001b[38;5;124;03m    This method is intended to be replaced, so that it returns your Comm instance.\u001b[39;00m\n\u001b[0;32m     26\u001b[0m \u001b[38;5;124;03m    \"\"\"\u001b[39;00m\n\u001b[1;32m---> 27\u001b[0m     \u001b[38;5;28;01mraise\u001b[39;00m \u001b[38;5;167;01mNotImplementedError\u001b[39;00m(\u001b[38;5;124m\"\u001b[39m\u001b[38;5;124mCannot \u001b[39m\u001b[38;5;124m\"\u001b[39m)\n",
      "\u001b[1;31mNotImplementedError\u001b[0m: Cannot "
     ]
    }
   ],
   "source": [
    "figure,axis=plt.subplots(2,num=1,layout=\"constrained\")\n",
    "axis[0].plot(times,noise)\n",
    "axis[0].set_xlabel(\"Time (s)\")\n",
    "\n",
    "axis[1].plot(uwu,iwi)\n",
    "axis[1].set_xlabel(\"Frequencies (Hz)\")\n",
    "figure.suptitle(\"Noise signal: Time plot and FFT\")\n"
   ]
  },
  {
   "cell_type": "markdown",
   "metadata": {},
   "source": [
    "### Signal selector and time plot <a   name=\"timeplot\"></a>"
   ]
  },
  {
   "cell_type": "code",
   "execution_count": null,
   "metadata": {},
   "outputs": [],
   "source": [
    "#select the signal [1,3]\n",
    "ELECTRODE_NUM=3\n",
    "SELECTOR=ELECTRODE_NUM-1 #Due to python indices"
   ]
  },
  {
   "cell_type": "code",
   "execution_count": null,
   "metadata": {},
   "outputs": [],
   "source": [
    "#Plot time signal i and the event markers\n",
    "single_plot(filename=\"none\",fig_number=2,x=times,y=signal_electrodes[:,SELECTOR],markers_times_array=marker_timestamps,\n",
    "            fig_title=\"test signal artificiel Electrode \"+str(ELECTRODE_NUM)+\"\\n Frequency: \"+ str(eval(\"signal_frequency\"+str(ELECTRODE_NUM)))+\"Hz\",\n",
    "            xlabel=\"temps(s)\",ylabel=\"amplitude(arbitrary unit)\")"
   ]
  },
  {
   "cell_type": "markdown",
   "metadata": {},
   "source": [
    "### Time and frequency plot (FFT) <a   name=\"fftplot\"></a>"
   ]
  },
  {
   "cell_type": "code",
   "execution_count": null,
   "metadata": {},
   "outputs": [],
   "source": [
    "FFT_whole_signals=compute_fft_on_all_channels2(channels_signals=signal_electrodes,Fs=Srate)\n",
    "FFT_first_half_signals=compute_fft_on_all_channels2(channels_signals=signal_electrodes[0:(len(signal_electrodes)//2)+1],Fs=Srate)\n",
    "FFT_second_half_signals=compute_fft_on_all_channels2(channels_signals=signal_electrodes[(len(signal_electrodes)//2):],Fs=Srate)"
   ]
  },
  {
   "cell_type": "code",
   "execution_count": null,
   "metadata": {},
   "outputs": [],
   "source": [
    "figure,axis=plt.subplots(4,num=3,layout=\"constrained\")\n",
    "axis[0].set_title(\"Signal N°\"+str(ELECTRODE_NUM)+\": Whole time signal\")\n",
    "axis[0].plot(times,signal_electrodes[:,SELECTOR])\n",
    "\n",
    "axis[1].set_title(\"Signal N°\"+str(ELECTRODE_NUM)+\": Whole signal's FFT\")\n",
    "axis[1].plot(FFT_whole_signals[\"FFT_frequencies\"][:,SELECTOR],FFT_whole_signals[\"FFT_magnitudes\"][:,SELECTOR])\n",
    "\n",
    "axis[2].set_title(\"Signal N°\"+str(ELECTRODE_NUM)+\": First half signal's FFT\")\n",
    "axis[2].plot(FFT_first_half_signals[\"FFT_frequencies\"][:,SELECTOR],FFT_first_half_signals[\"FFT_magnitudes\"][:,SELECTOR])\n",
    "\n",
    "axis[3].set_title(\"Signal N°\"+str(ELECTRODE_NUM)+\": Second half signal's FFT\")\n",
    "axis[3].plot(FFT_second_half_signals[\"FFT_frequencies\"][:,SELECTOR],FFT_second_half_signals[\"FFT_magnitudes\"][:,SELECTOR])\n"
   ]
  },
  {
   "cell_type": "markdown",
   "metadata": {},
   "source": [
    "## 1-PSD around markers and ratio calculation : Old method<a   name=\"old\"></a>"
   ]
  },
  {
   "cell_type": "markdown",
   "metadata": {},
   "source": [
    "### Compute the PSDs around all markers for all signals<a   name=\"psdsold\"></a>"
   ]
  },
  {
   "cell_type": "code",
   "execution_count": null,
   "metadata": {},
   "outputs": [],
   "source": [
    "#Find the nearest signal timepoint for each marker (timestamps,markers) (in case a marker is between two sample)\n",
    "#returns a 2d array (Timestamp_indices,timestamps)\n",
    "nearest_marker_indices_timestamps = nearest_timestamps_array_finder(\n",
    "    times, marker_timestamps) \n",
    "print(type(nearest_marker_indices_timestamps[0,0]))"
   ]
  },
  {
   "cell_type": "code",
   "execution_count": null,
   "metadata": {},
   "outputs": [],
   "source": [
    "# Segment length of the signal on which the PSD is computed (expressed in seconds)\n",
    "time_window=1 "
   ]
  },
  {
   "cell_type": "code",
   "execution_count": null,
   "metadata": {},
   "outputs": [],
   "source": [
    "#Compute PSD before all markers over all electrodes\n",
    "tridi_freqs_before, tridi_Pxx_densities_before = compute_lagged_psd2_all_electrodes(signal_electrodes, Srate, nearest_marker_indices_timestamps,\n",
    "                                                                                    time_lag=time_window, direction=\"before\")\n",
    "\n",
    "#Compute PSD after all markers over all electrodes\n",
    "tridi_freqs_after, tridi_Pxx_densities_after = compute_lagged_psd2_all_electrodes(signal_electrodes, Srate, nearest_marker_indices_timestamps,\n",
    "                                                                                  time_lag=time_window, direction=\"after\")"
   ]
  },
  {
   "cell_type": "markdown",
   "metadata": {},
   "source": [
    "### Plot signal i's PSDs around 1st marker 111<a   name=\"psdplotold\"></a>"
   ]
  },
  {
   "cell_type": "code",
   "execution_count": null,
   "metadata": {},
   "outputs": [],
   "source": [
    "# separation of the PSD results according to the marker type (before and after)[PSD result,Markeri,Signali]\n",
    "tridi_Pxx_densities_111_before = tridi_Pxx_densities_before[:, 1::2, :]\n",
    "tridi_Pxx_densities_111_after = tridi_Pxx_densities_after[:, 1::2, :]\n",
    "\n",
    "tridi_Pxx_densities_100_before = tridi_Pxx_densities_before[:, 0::2, :]\n",
    "tridi_Pxx_densities_100_after = tridi_Pxx_densities_after[:, 0::2, :]\n",
    "\n",
    "\n",
    "print(np.unique (tridi_Pxx_densities_111_before==tridi_Pxx_densities_111_after))"
   ]
  },
  {
   "cell_type": "code",
   "execution_count": null,
   "metadata": {},
   "outputs": [],
   "source": [
    "#Plot signal i's PSDs around 1st marker 111\n",
    "figure,axis=plt.subplots(2,num=4,layout=\"constrained\")\n",
    "figure.suptitle(\"Signal \"+str(ELECTRODE_NUM)+\"'s PSDs before and after first marker  111\")\n",
    "axis[0].set_title(\"PSD \"+str(time_window) +\"s before\")\n",
    "axis[0].set_ylabel(\"amplitude (A.U²/Hz)\")\n",
    "axis[0].set_xlabel(\"Frequency (Hz)\")\n",
    "axis[0].semilogy(tridi_freqs_before[:, 0, SELECTOR],tridi_Pxx_densities_111_before[:, 1, SELECTOR],color=\"blue\",label=\"before\")\n",
    "\n",
    "axis[0].axvline(x=signal_frequency1,color=\"red\",label=str(signal_frequency1)+\"Hz\")\n",
    "axis[0].axvline(x=signal_frequency2,color=\"black\",label=str(signal_frequency2)+\"Hz\")\n",
    "\n",
    "axis[1].set_title(\"PSD \"+str(time_window) +\"s after\")\n",
    "axis[1].set_ylabel(\"amplitude (A.U²/Hz)\")\n",
    "axis[1].set_xlabel(\"Frequency (Hz)\")\n",
    "axis[1].semilogy(tridi_freqs_after[:, 0, SELECTOR],tridi_Pxx_densities_111_after[:, 1, SELECTOR],color=\"forestgreen\",label=\"after\")\n",
    "\n",
    "axis[1].axvline(x=signal_frequency1,color=\"red\",label=\"_\"+str(signal_frequency1)+\"Hz\")\n",
    "axis[1].axvline(x=signal_frequency2,color=\"black\",label=\"_\"+str(signal_frequency2)+\"Hz\")\n",
    "\n",
    "figure.legend()\n"
   ]
  },
  {
   "cell_type": "markdown",
   "metadata": {},
   "source": [
    "### Plot signal i's ERSP around 1st marker 111<a   name=\"ERSPplotold\"></a>"
   ]
  },
  {
   "cell_type": "code",
   "execution_count": null,
   "metadata": {},
   "outputs": [],
   "source": [
    "# compute the ratio of the Pxx_densities of each side of each marker(12*2) of each of the 8 channel\n",
    "# need (PSDafter-PSDbefore/PSDbefore)*100\n",
    "tridi_Pxx_densities_ratio_111 = ((\n",
    "    tridi_Pxx_densities_111_after-tridi_Pxx_densities_111_before)/tridi_Pxx_densities_111_before)*100\n",
    "tridi_Pxx_densities_ratio_100 = ((\n",
    "    tridi_Pxx_densities_100_before-tridi_Pxx_densities_111_after)/tridi_Pxx_densities_111_after)*100\n",
    "\n",
    "if np.array_equal(tridi_freqs_after,tridi_freqs_before) :\n",
    "    tridi_freqs_ratio=tridi_freqs_after"
   ]
  },
  {
   "cell_type": "code",
   "execution_count": null,
   "metadata": {},
   "outputs": [],
   "source": [
    "#Plot ERSP\n",
    "single_plot(\"Signal frequency: \"+str(eval(\"signal_frequency\"+str(ELECTRODE_NUM)))+\"Hz\", fig_number=5, x=tridi_freqs_ratio[:, 0, SELECTOR], y=tridi_Pxx_densities_ratio_111[:, 1, SELECTOR],\n",
    "            fig_title=\"Signal \" +str(ELECTRODE_NUM)+ \" PSD ratio for first marker 111 (\"+str(time_window)+\"s)\",\n",
    "            xlabel=\"Frequencies(Hz)\", ylabel=\"PSD ratio(after-Before/before) (%)\")\n"
   ]
  },
  {
   "cell_type": "markdown",
   "metadata": {},
   "source": [
    "### Analysis<a   name=\"analysisold\"></a>"
   ]
  },
  {
   "cell_type": "markdown",
   "metadata": {},
   "source": [
    "Conclusion: Probleme données ratio reproduit. Persistant sur signal artificiel. \n",
    "Les PSD sont néamoins coherentes avec les caracteristiques des signaux generés.\n",
    "\n",
    "Causes possibles: \n",
    "1. Elementwise operation: ecartée car fonctionne en soustraction (et syntaxe correcte)\n",
    "2. Separation des matrices marqueurs 111 et 100, avant et apres: mauvaise selection?\n",
    "3. Bug de la fonction nearest_timestamps_array_finder() qui associe a chaque temps de marqueur le temps le plus proche correspondant a un echantillion dans le signal.\n",
    "\n",
    "Solution: revoir et simplifier la methode de calcul des PSD et de la variation relative de la puissance (ERSP)"
   ]
  },
  {
   "cell_type": "markdown",
   "metadata": {},
   "source": [
    "## 2-PSD around markers and ratio calculation: New method<a   name=\"new\"></a>"
   ]
  },
  {
   "cell_type": "markdown",
   "metadata": {},
   "source": [
    "### Compute the PSDs around all markers for one signal<a   name=\"psdnew\"></a>"
   ]
  },
  {
   "cell_type": "code",
   "execution_count": null,
   "metadata": {},
   "outputs": [],
   "source": [
    "#Compute the power spectrum on segments before and after all markers for selected electrode\n",
    "\n",
    "#freqs, Pxx_density=compute_welch_estimation_on_segment2(segment=signal_electrodes[:,SELECTOR],sample_rate=Srate,nfft=len(signal_electrodes[:,SELECTOR])) #over whole signal\n",
    "time_window#in seconds\n",
    "\n",
    "before=compute_welch_on_a_signal_before_each_marker(signal_electrodes[:,SELECTOR], sample_rate=Srate, \n",
    "                                                  marker_times=nearest_marker_indices_timestamps, segment_duration=time_window) #over time_window sec before each marker\n",
    "\n",
    "after=compute_welch_on_a_signal_after_each_marker(signal_electrodes[:,SELECTOR], sample_rate=Srate,  #over PSD_WINDOW sec after each marker\n",
    "                                                  marker_times=nearest_marker_indices_timestamps, segment_duration=time_window)\n",
    "baselines=compute_welch_on_a_signal_before_each_marker(signal_electrodes[:,SELECTOR], sample_rate=Srate,  #over 1sec after each\n",
    "                                                  marker_times=nearest_marker_indices_timestamps, segment_duration=1)\n",
    "\n"
   ]
  },
  {
   "cell_type": "code",
   "execution_count": null,
   "metadata": {},
   "outputs": [],
   "source": [
    "#get the PSD results of the segments surrounding the 1st marker 111 (ie. second out of a total of 4)\n",
    "after_marker_n=after[\"PSD_magnitudes\"][:,1]\n",
    "before_marker_n=before[\"PSD_magnitudes\"][:,1]\n",
    "baseline=np.mean(baselines[\"PSD_magnitudes\"][:,1])\n",
    "\n",
    "#test to make sure the returned frequency vectors are the same on segments before and after the marker\n",
    "test=np.unique(after[\"PSD_frequencies\"]==before[\"PSD_frequencies\"]) \n",
    "print(test)\n",
    "\n",
    "if test[0] == True:\n",
    "    PSD_freqs=after[\"PSD_frequencies\"][:,1]\n"
   ]
  },
  {
   "cell_type": "markdown",
   "metadata": {},
   "source": [
    "### Plot signal i's PSDs around 1st marker 111<a   name=\"psdplotnew\"></a>"
   ]
  },
  {
   "cell_type": "code",
   "execution_count": null,
   "metadata": {},
   "outputs": [],
   "source": [
    "#Plot electrode i's time signal and PSDs around 1st marker 111\n",
    "figure,axis=plt.subplots(3,1,num=6,figsize=(7, 5), layout=\"constrained\")\n",
    "figure.suptitle(\"Full time signal \"+str(ELECTRODE_NUM)+\" and PSDs around 1st marker 111\")\n",
    "\n",
    "#Whole time-signal subplot\n",
    "axis[0].set_title(\"Full time signal\")\n",
    "axis[0].plot(times,signal_electrodes[:,SELECTOR],label=\"time signal\") #pic dirac pour la PSD sur l'ensemble du signal\n",
    "axis[0].set_ylabel(\"Amplitude (A.U)\")\n",
    "axis[0].set_xlabel(\"time(s)\")\n",
    "\n",
    "#PSD before marker\n",
    "axis[1].set_title(\"Signal PSD before 1st marker 111\")\n",
    "axis[1].plot(PSD_freqs,before_marker_n,\"blue\",label=str(time_window)+\" sec before first marker\")\n",
    "axis[1].plot(PSD_freqs,after_marker_n,\"green\",label=str(time_window)+\" sec after first marker\")\n",
    "axis[1].set_ylabel(\"PSD ((A.U)²/Hz)\")\n",
    "axis[1].set_xlim([min(signal_frequency1,signal_frequency2)-5,max(signal_frequency1,signal_frequency2)+5])\n",
    "\n",
    "axis[1].axvline(x=signal_frequency1,color=\"red\",label=str(signal_frequency1)+\"Hz\")\n",
    "axis[1].axvline(x=signal_frequency2,color=\"black\",label=str(signal_frequency2)+\"Hz\")\n",
    "\n",
    "#PSD after marker\n",
    "axis[2].set_title(\"Signal PSD after 1st marker 111\")\n",
    "axis[2].plot(PSD_freqs,after_marker_n,\"green\",label=\"_\"+str(time_window)+\" sec after first marker\")\n",
    "axis[2].set_ylabel(\"PSD ((A.U)²/Hz)\")\n",
    "axis[2].set_xlabel(\"Frequency(Hz)\")\n",
    "axis[2].set_xlim([min(signal_frequency1,signal_frequency2)-5,max(signal_frequency1,signal_frequency2)+5])\n",
    "\n",
    "axis[2].axvline(x=signal_frequency1,color=\"red\",label=\"_\"+str(signal_frequency1)+\"Hz\")\n",
    "axis[2].axvline(x=signal_frequency2,color=\"black\",label=\"_\"+str(signal_frequency2)+\"Hz\")\n",
    "\n",
    "axis[1].grid()\n",
    "axis[2].grid()\n",
    "figure.legend(loc='lower right')\n",
    "print(np.shape(PSD_freqs))"
   ]
  },
  {
   "cell_type": "code",
   "execution_count": null,
   "metadata": {},
   "outputs": [],
   "source": [
    "# What are the maximas of the power spectrum of the segments surrounding the 1st '111' marker?\n",
    "maxima_psd_before=np.max(before_marker_n) #1st marker 111 (2d marker of all)\n",
    "maxima_psd_after=np.max(after_marker_n) #1st marker 111 (2d marker of all)\n",
    "\n",
    "#Can we see the amplitude switch on the power spectra? (cf original_amp_1 vs new_amp_1 )?\n",
    "ratio_signal_amplitude=original_amp_1/new_amp_1\n",
    "ratio_psd_maximas=maxima_psd_before/maxima_psd_after\n",
    "\n",
    "\n",
    "print(\"maxima of the PSD over 1sec before 4s Marker 111:\",maxima_psd_before) \n",
    "print(\"maxima of the PSD over 1sec after 4s Marker 111:\",maxima_psd_after) \n",
    "print(\"ratio of the signal amplitude over 4sec around the 1st Marker 111:\",ratio_signal_amplitude) \n",
    "print(\"ratio of the maxima PSD over 4sec around the 1st Marker 111:\",ratio_psd_maximas)"
   ]
  },
  {
   "cell_type": "markdown",
   "metadata": {},
   "source": [
    "### Analysis 1<a   name=\"analysis1new\"></a>"
   ]
  },
  {
   "cell_type": "markdown",
   "metadata": {},
   "source": [
    "<u>Hyp1:</u> Since the energy carried out by a wave is proportional to the square of its amplitude, we expect that the ratio of energy between two sine wave is equal to the square of the ratio of their amplitude.\n",
    "<br>Here integration time is the same so, ratio of power should be equal to the square of the amplitude ratio.\n",
    "\n",
    "\n",
    "<u>Hyp2:</u> These maximas should be found at the signal frequency which is constant (ex: x=12Hz)\n",
    "\n",
    "<u>CCL:</u> The result (cf above cell) is coherent with this hypothesis. We have indeed:\n",
    "$$\n",
    "\\frac{PowerBefore}{PowerAfter}=(\\frac{AmplitudeBefore}{AmplitudeAfter})²\n",
    "$$\n",
    "\n",
    "NB: We only change the amplitude of the signal at half duration, the frequency stays the same.\n"
   ]
  },
  {
   "cell_type": "markdown",
   "metadata": {},
   "source": [
    "### Plot Signal i's ERSP around 1st marker 111<a   name=\"ERSPnew\"></a>"
   ]
  },
  {
   "cell_type": "code",
   "execution_count": null,
   "metadata": {},
   "outputs": [],
   "source": [
    "print(len(after_marker_n))\n",
    "#after_marker_n=np.fix(after_marker_n,out=None)\n",
    "after_marker_n=np.around(after_marker_n, decimals=0, out=None)\n",
    "\n",
    "print(len(after_marker_n))\n",
    "#before_marker_n=np.fix(before_marker_n,out=None)\n",
    "before_marker_n=np.around(before_marker_n, decimals=0, out=None)\n",
    "\n",
    "\n",
    "diff_PSDs=np.subtract(after_marker_n,before_marker_n)\n",
    "print(np.shape(diff_PSDs))\n",
    "\n",
    "#ERSP formula\n",
    "\n",
    "#diff_PSDs=np.round(diff_PSDs,decimals=2)\n",
    "ratio_PSDs=np.divide(diff_PSDs,before_marker_n)*100 #returns nans if divided by 0\n",
    "#np.divide(1,0.0)\n",
    "ratio_PSDs=np.nan_to_num(ratio_PSDs, copy=False, nan=0.0) #manage nan values"
   ]
  },
  {
   "cell_type": "code",
   "execution_count": null,
   "metadata": {},
   "outputs": [],
   "source": [
    "#Plot the difference between PSD after and before\n",
    "figure,axis=plt.subplots(num=7,layout=\"constrained\")\n",
    "axis.plot(PSD_freqs,diff_PSDs,\"-g\",label=\"4sec around first marker 111\") #pic dirac elargi a la base pour la PSD sur setion d'1sec du signal\n",
    "#axis.axvline(12)\n",
    "axis.set_title(\"Power difference between before and after 1st marker 111\")\n",
    "axis.set_ylabel(\"Power difference (after-before) (A.U)\")\n",
    "axis.set_xlabel(\"Frequency(Hz)\")\n",
    "axis.legend()\n",
    "#axis.set_xlim([min(signal_frequency1,signal_frequency2)-5,max(signal_frequency1,signal_frequency2)+5])\n"
   ]
  },
  {
   "cell_type": "code",
   "execution_count": null,
   "metadata": {},
   "outputs": [],
   "source": [
    "#Plot ERSP\n",
    "figure,axis=plt.subplots(num=8,layout=\"constrained\")\n",
    "axis.plot(PSD_freqs,ratio_PSDs,\"-g\",label=\"4sec around first marker 111\") #pic dirac elargi a la base pour la PSD sur setion d'1sec du signal\n",
    "axis.set_title(\"Signal power change over a period of 4s after \\n the 1st marker 111 relative to 4s before\")\n",
    "axis.set_ylabel(\"Power relative change (ERSP) (in %)\")\n",
    "axis.set_xlabel(\"Frequency(Hz)\")\n",
    "#axis.set_xlim([min(signal_frequency1,signal_frequency2)-5,max(signal_frequency1,signal_frequency2)+5])"
   ]
  },
  {
   "cell_type": "markdown",
   "metadata": {},
   "source": [
    "### Analysis 2<a   name=\"analysis2new\"></a>"
   ]
  },
  {
   "cell_type": "markdown",
   "metadata": {},
   "source": [
    "Rappelons que le 1er marqueur 111 correspond uniquement au changement d'amplitude du signal. Et que le calcul des PSD est identique quel que soit le segment du signal sur lequel il est réalisé.\n",
    "Ainsi en calculant la PSD sur un segment de taille identique (en nombre d'échantillons) avant et après le 1er marqueur 111, le seul paramètre changeant est l'amplitude de la sinusoïde.\n",
    "\n",
    "On remarque dans le résultat des deux PSD qu'en plus d'avoir des valeurs de puissances autour de la fréquence du signal (spectral leakage ?) :\n",
    "- Il existe des valeurs d'amplitude pour des fréquences qui en sont éloignées (pour f=12Hz, à 5Hz et 100Hz par exemple).\n",
    "- On remarque aussi que ces puissances à des fréquences éloignées ne sont pas identiques. \n",
    "\n",
    "<u>CCL 1:</u> Alors qu'on s'attendait à des valeurs nulles à des fréquences éloignées, ce n'est pas le cas. <br><br>\n",
    "<u>CCL 2:</u> Alors qu'on s'attendait à des valeurs identiques pour des fréquences non contenues dans le signal, ce n'est pas le cas.<br><br>\n",
    "<u>CCL 3:</u> L'amplitude d'un signal de frequence unique impacte les valeurs de puissance même à des frequences non contenues dans celui ci.\n",
    "\n",
    "Tout ceci fait que pour un signal de fréquence donné, même si les puissances avant et après le changement d'amplitude sont très proches, la formule de calcul des ERSP laisse au dénominateur des puissances négatives importantes. Cela se traduit en variations de puissance relative très élevées.\n",
    "\n",
    "<u>CCL:</u> Le pb du calcul des ERSP semble donc résider dans le fait que la méthode de welch n'est pas parfaite.\n",
    "\n",
    "<span style='color:yellow'> Quelle solution??</span >\n",
    "\n"
   ]
  }
 ],
 "metadata": {
  "kernelspec": {
   "display_name": "Python 3 (ipykernel)",
   "language": "python",
   "name": "python3"
  },
  "language_info": {
   "codemirror_mode": {
    "name": "ipython",
    "version": 3
   },
   "file_extension": ".py",
   "mimetype": "text/x-python",
   "name": "python",
   "nbconvert_exporter": "python",
   "pygments_lexer": "ipython3",
   "version": "3.10.9"
  }
 },
 "nbformat": 4,
 "nbformat_minor": 2
}
