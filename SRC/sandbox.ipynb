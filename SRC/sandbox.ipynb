{
 "cells": [
  {
   "attachments": {},
   "cell_type": "markdown",
   "metadata": {},
   "source": [
    "# SandBox - Assignment2"
   ]
  },
  {
   "attachments": {},
   "cell_type": "markdown",
   "metadata": {},
   "source": [
    "This script is made only to see the effects of each processing step (centering,rereferencing,filtering) both on time and frequency domains"
   ]
  },
  {
   "attachments": {},
   "cell_type": "markdown",
   "metadata": {},
   "source": [
    "## Import libraries"
   ]
  },
  {
   "cell_type": "code",
   "execution_count": null,
   "metadata": {},
   "outputs": [],
   "source": [
    "import os\n",
    "import pyxdf # xdf file importation\n",
    "import matplotlib.pyplot as plt\n",
    "import numpy as np\n",
    "from my_functions import *\n",
    "# library for creating filters\n",
    "from scipy.signal import butter, iirnotch, filtfilt, welch\n",
    "%matplotlib widget\n"
   ]
  },
  {
   "cell_type": "code",
   "execution_count": null,
   "metadata": {},
   "outputs": [],
   "source": [
    "plt.close(\"all\")  # close all figure windows"
   ]
  },
  {
   "attachments": {},
   "cell_type": "markdown",
   "metadata": {},
   "source": [
    "## Initialization"
   ]
  },
  {
   "attachments": {},
   "cell_type": "markdown",
   "metadata": {},
   "source": [
    "### File selection and loading"
   ]
  },
  {
   "cell_type": "code",
   "execution_count": null,
   "metadata": {},
   "outputs": [],
   "source": [
    "# Define the xdf file path\n",
    "FILENAME = \"001_MolLud_20201112_1_c.xdf\"\n",
    "# FILENAME=\"020_DesMar_20211129_1_c.xdf\"\n",
    "# path=os.path.normpath(\"../DAT/Input/001_MolLud_20201112_1_c.xdf\")\n",
    "path = os.path.normpath(\"DAT/INPUT/\"+FILENAME)"
   ]
  },
  {
   "attachments": {},
   "cell_type": "markdown",
   "metadata": {},
   "source": [
    "### Loading streams of interest"
   ]
  },
  {
   "cell_type": "code",
   "execution_count": null,
   "metadata": {},
   "outputs": [],
   "source": [
    "data, header = pyxdf.load_xdf(path, select_streams=[{'type': 'EEG'}, {\n",
    "                              'type': 'Markers', 'name': 'MouseToNIC'}])"
   ]
  },
  {
   "attachments": {},
   "cell_type": "markdown",
   "metadata": {},
   "source": [
    "#### Storing the data of interest in two lists (markers and signal) "
   ]
  },
  {
   "cell_type": "code",
   "execution_count": null,
   "metadata": {},
   "outputs": [],
   "source": [
    "# Selection of the streams of interest in the xdf file (data is a list of dictionaries)\n",
    "for i in range(len(data)):\n",
    "    print(i)\n",
    "    if data[i][\"info\"][\"type\"] == ['EEG']:\n",
    "        EEG_Stream = data[i]  # selecting EEG stream\n",
    "    elif data[i][\"info\"][\"type\"] == ['Markers']:\n",
    "        Mouse_markers_Stream = data[i]  # selecting markers stream"
   ]
  },
  {
   "cell_type": "code",
   "execution_count": null,
   "metadata": {},
   "outputs": [],
   "source": [
    "#playing around\n",
    "print(type(data),\"len:\",len(data)) #data is a list of dictionaries\n",
    "print(type(EEG_Stream),\"len:\",len(EEG_Stream)) #EEG_Stream is a dictionary\n",
    "print(EEG_Stream.keys())\n",
    "print(EEG_Stream[\"time_series\"].shape) #Navigate into the dictionary to get to the time series\n",
    "print(type(Mouse_markers_Stream),\"len:\",len(Mouse_markers_Stream))"
   ]
  },
  {
   "attachments": {},
   "cell_type": "markdown",
   "metadata": {},
   "source": [
    "#### Defining the channels names"
   ]
  },
  {
   "cell_type": "code",
   "execution_count": null,
   "metadata": {},
   "outputs": [],
   "source": [
    "# definition of the EEG channels' names\n",
    "channels_dic = {\"Channel_1\": \"C4\",\n",
    "                \"Channel_2\": \"FC2\",\n",
    "                \"Channel_3\": \"FC6\",\n",
    "                \"Channel_4\": \"CP2\",\n",
    "                \"Channel_5\": \"C3\",\n",
    "                \"Channel_6\": \"FC1\",\n",
    "                \"Channel_7\": \"FC5\",\n",
    "                \"Channel_8\": \"CP1\"}"
   ]
  },
  {
   "attachments": {},
   "cell_type": "markdown",
   "metadata": {},
   "source": [
    "### Shaping recoding parameters' data"
   ]
  },
  {
   "cell_type": "code",
   "execution_count": null,
   "metadata": {},
   "outputs": [],
   "source": [
    "Srate = EEG_Stream[\"info\"][\"effective_srate\"]\n",
    "\n",
    "# Markers start with a time relative to the execution time of the recording\n",
    "Marker_times = (\n",
    "    Mouse_markers_Stream[\"time_stamps\"]-EEG_Stream[\"time_stamps\"][0])\n",
    "\n",
    "# selecting the marker labels\n",
    "Markers_labels = Mouse_markers_Stream[\"time_series\"]\n",
    "\n",
    "# Creation of a 2D array Markers_times_labels: [[markers_timesstamps],[markers_labels]]\n",
    "Markers_times_labels = np.column_stack((Marker_times, Markers_labels))\n",
    "\n",
    "# format times_stamps in seconds relative to the execution time of the recording\n",
    "EEG_times = EEG_Stream[\"time_stamps\"]-EEG_Stream[\"time_stamps\"][0]\n",
    "# Amplitude of voltage recorded by each electrode of the recording set-up\n",
    "EEG_raw_amplitudes = EEG_Stream[\"time_series\"]"
   ]
  },
  {
   "attachments": {},
   "cell_type": "markdown",
   "metadata": {},
   "source": [
    "## Experiments"
   ]
  },
  {
   "attachments": {},
   "cell_type": "markdown",
   "metadata": {},
   "source": [
    "### Time signal and FFT: raw signal"
   ]
  },
  {
   "attachments": {},
   "cell_type": "markdown",
   "metadata": {},
   "source": [
    "#### Electrode selection"
   ]
  },
  {
   "cell_type": "code",
   "execution_count": null,
   "metadata": {},
   "outputs": [],
   "source": [
    "#Electrode selection [1;8]\n",
    "i = 1  # electrode number\n",
    "electrodei = EEG_raw_amplitudes[:, i-1]\n",
    "print(\"electrode\",str(i),\"shape:\",electrodei.shape)"
   ]
  },
  {
   "attachments": {},
   "cell_type": "markdown",
   "metadata": {},
   "source": [
    "#### Plotting electrode i's raw time-signal"
   ]
  },
  {
   "cell_type": "code",
   "execution_count": null,
   "metadata": {},
   "outputs": [],
   "source": [
    "# plotting electrode i-1's signal for verification\n",
    "single_plot(FILENAME, fig_number=1, x=EEG_times, y=electrodei,\n",
    "            fig_title=\"Raw EEG time signal, Derivation \" +\n",
    "            str(i)+\": \"+channels_dic[\"Channel_\"+str(i)],\n",
    "            xlabel=\"Temps (s)\", ylabel=\"Amplitude(\"+str(EEG_Stream[\"info\"][\"desc\"][0][\"channel\"][i-1][\"unit\"][0])+\")\",\n",
    "            markers_times_array=Markers_times_labels)"
   ]
  },
  {
   "attachments": {},
   "cell_type": "markdown",
   "metadata": {},
   "source": [
    "#### Compute FFT on raw signal"
   ]
  },
  {
   "cell_type": "code",
   "execution_count": null,
   "metadata": {},
   "outputs": [],
   "source": [
    "EEG_FFT = compute_fft_on_all_channels(EEG_raw_amplitudes, Srate)\n",
    "print(type(EEG_FFT),\"length:\",len(EEG_FFT))\n"
   ]
  },
  {
   "attachments": {},
   "cell_type": "markdown",
   "metadata": {},
   "source": [
    "#### Plotting electrode i's raw signal FFT"
   ]
  },
  {
   "cell_type": "code",
   "execution_count": null,
   "metadata": {},
   "outputs": [],
   "source": [
    "# plotting electrode i-1's FFT for verification\n",
    "single_plot(FILENAME, fig_number=2, x=EEG_FFT[\"fft_frequencies\"], y=EEG_FFT[\"FFT_Results_EEG_channels\"][:,i],\n",
    "            fig_title=\"Raw EEG signal FFT, Derivation \" +\n",
    "            str(i)+\": \"+channels_dic[\"Channel_\"+str(i)],\n",
    "            xlabel=\"Frequences (Hz)\", ylabel=\"Amplitude(\"+str(EEG_Stream[\"info\"][\"desc\"][0][\"channel\"][i-1][\"unit\"][0])+\")\")"
   ]
  },
  {
   "attachments": {},
   "cell_type": "markdown",
   "metadata": {},
   "source": [
    "### Exp 1-Effect of centering on raw Time signals and FFT"
   ]
  },
  {
   "attachments": {},
   "cell_type": "markdown",
   "metadata": {},
   "source": [
    "#### Center the signal"
   ]
  },
  {
   "cell_type": "code",
   "execution_count": null,
   "metadata": {},
   "outputs": [],
   "source": [
    "EEG_raw_amplitudes_centered=EEG_raw_amplitudes-np.mean(EEG_raw_amplitudes,axis=0)"
   ]
  },
  {
   "attachments": {},
   "cell_type": "markdown",
   "metadata": {},
   "source": [
    "#### Plotting electrode i's centered time-signal"
   ]
  },
  {
   "cell_type": "code",
   "execution_count": null,
   "metadata": {},
   "outputs": [],
   "source": [
    "# plotting electrode i-1's centered signal for verification\n",
    "single_plot(FILENAME, fig_number=3, x=EEG_times, y=EEG_raw_amplitudes_centered[:,i],\n",
    "            fig_title=\"Centered EEG time signal, Derivation \" +\n",
    "            str(i)+\": \"+channels_dic[\"Channel_\"+str(i)],\n",
    "            xlabel=\"Temps (s)\", ylabel=\"Amplitude(\"+str(EEG_Stream[\"info\"][\"desc\"][0][\"channel\"][i-1][\"unit\"][0])+\")\",\n",
    "            markers_times_array=Markers_times_labels)"
   ]
  },
  {
   "attachments": {},
   "cell_type": "markdown",
   "metadata": {},
   "source": [
    "#### Compute FFT on centered signal"
   ]
  },
  {
   "cell_type": "code",
   "execution_count": null,
   "metadata": {},
   "outputs": [],
   "source": [
    "EEG_raw_centered_FFT = compute_fft_on_all_channels(EEG_raw_amplitudes_centered, Srate)\n",
    "print(type(EEG_raw_centered_FFT),\"length:\",len(EEG_raw_centered_FFT))\n"
   ]
  },
  {
   "attachments": {},
   "cell_type": "markdown",
   "metadata": {},
   "source": [
    "#### Plotting electrode i's centered signal FFT"
   ]
  },
  {
   "cell_type": "code",
   "execution_count": null,
   "metadata": {},
   "outputs": [],
   "source": [
    "# plotting electrode i-1's centered signal FFT for verification\n",
    "single_plot(FILENAME, fig_number=4, x=EEG_raw_centered_FFT[\"fft_frequencies\"], y=EEG_raw_centered_FFT[\"FFT_Results_EEG_channels\"][:,i],\n",
    "            fig_title=\"Centered EEG signal FFT, Derivation \" +\n",
    "            str(i)+\": \"+channels_dic[\"Channel_\"+str(i)],\n",
    "            xlabel=\"Frequences (Hz)\", ylabel=\"Amplitude(\"+str(EEG_Stream[\"info\"][\"desc\"][0][\"channel\"][i-1][\"unit\"][0])+\")\")"
   ]
  },
  {
   "attachments": {},
   "cell_type": "markdown",
   "metadata": {},
   "source": [
    "### Exp 2-Effect of filtering on raw Time signals and FFT"
   ]
  },
  {
   "attachments": {},
   "cell_type": "markdown",
   "metadata": {},
   "source": [
    "#### Filtering"
   ]
  },
  {
   "cell_type": "code",
   "execution_count": null,
   "metadata": {},
   "outputs": [],
   "source": [
    "#correct cutoff frequencies for butterworth filter\n",
    "FILTER_ORDER = 4\n",
    "# corrected cutoff frequency Low-pass butterworth filter\n",
    "LPf = filtfilt_cutoff_frequency_corrector(FILTER_ORDER, 40, Srate, pass_type=\"low_pass\")\n",
    "# corrected cutoff frequency High-pass butterworth filter\n",
    "HPf = filtfilt_cutoff_frequency_corrector(FILTER_ORDER, 1, Srate, pass_type=\"high_pass\")"
   ]
  },
  {
   "cell_type": "code",
   "execution_count": null,
   "metadata": {},
   "outputs": [],
   "source": [
    "# Creation of a 4th order butterworth band pass filter\n",
    "F_Nyquist = Srate/2\n",
    "b, a = butter(FILTER_ORDER, [HPf, LPf], btype='bandpass', fs=Srate)"
   ]
  },
  {
   "cell_type": "code",
   "execution_count": null,
   "metadata": {},
   "outputs": [],
   "source": [
    "#Filtering the raw signal on all channels\n",
    "EEG_raw_amplitudes_filtered = filtfilt(b, a, EEG_raw_amplitudes, axis=0)          # Band-pass Filtering"
   ]
  },
  {
   "attachments": {},
   "cell_type": "markdown",
   "metadata": {},
   "source": [
    "#### Filtered signal : Time-signal"
   ]
  },
  {
   "cell_type": "code",
   "execution_count": null,
   "metadata": {},
   "outputs": [],
   "source": [
    "# plotting electrode i-1's signal for verification\n",
    "single_plot(FILENAME, fig_number=5, x=EEG_times, y=EEG_raw_amplitudes_filtered[:,i],\n",
    "            fig_title=\"Raw EEG time signal Filtered, Derivation \" +\n",
    "            str(i)+\": \"+channels_dic[\"Channel_\"+str(i)],\n",
    "            xlabel=\"Temps (s)\", ylabel=\"Amplitude(\"+str(EEG_Stream[\"info\"][\"desc\"][0][\"channel\"][i-1][\"unit\"][0])+\")\",\n",
    "            markers_times_array=Markers_times_labels)"
   ]
  },
  {
   "attachments": {},
   "cell_type": "markdown",
   "metadata": {},
   "source": [
    "#### Filtered signal : FFT"
   ]
  },
  {
   "cell_type": "code",
   "execution_count": null,
   "metadata": {},
   "outputs": [],
   "source": [
    "EEG_raw_amplitudes_filtered_FFT = compute_fft_on_all_channels(EEG_raw_amplitudes_filtered, Srate)\n",
    "print(type(EEG_raw_amplitudes_filtered_FFT),\"length:\",len(EEG_raw_amplitudes_filtered_FFT))"
   ]
  },
  {
   "cell_type": "code",
   "execution_count": null,
   "metadata": {},
   "outputs": [],
   "source": [
    "# plotting electrode i-1's FFT for verification\n",
    "single_plot(FILENAME, fig_number=6, x=EEG_raw_amplitudes_filtered_FFT[\"fft_frequencies\"], y=EEG_raw_amplitudes_filtered_FFT[\"FFT_Results_EEG_channels\"][:,i],\n",
    "            fig_title=\"Raw EEG signal Filtered FFT, Derivation \" +\n",
    "            str(i)+\": \"+channels_dic[\"Channel_\"+str(i)],\n",
    "            xlabel=\"Frequences (Hz)\", ylabel=\"Amplitude(\"+str(EEG_Stream[\"info\"][\"desc\"][0][\"channel\"][i-1][\"unit\"][0])+\")\")"
   ]
  },
  {
   "attachments": {},
   "cell_type": "markdown",
   "metadata": {},
   "source": [
    "### Exp 3-Effect of filtering on centered Time signals and FFT"
   ]
  },
  {
   "attachments": {},
   "cell_type": "markdown",
   "metadata": {},
   "source": [
    "#### Filtering"
   ]
  },
  {
   "cell_type": "code",
   "execution_count": null,
   "metadata": {},
   "outputs": [],
   "source": [
    "#Filtering the centered signal on all channels\n",
    "EEG_raw_amplitudes_centered_filtered = filtfilt(b, a, EEG_raw_amplitudes_centered,axis=0)          # Band-pass Filtering"
   ]
  },
  {
   "attachments": {},
   "cell_type": "markdown",
   "metadata": {},
   "source": [
    "#### Filtered centered signal : Time-signal"
   ]
  },
  {
   "cell_type": "code",
   "execution_count": null,
   "metadata": {},
   "outputs": [],
   "source": [
    "# plotting electrode i-1's signal for verification\n",
    "single_plot(FILENAME, fig_number=7, x=EEG_times, y=EEG_raw_amplitudes_centered_filtered[:,i],\n",
    "            fig_title=\"Raw EEG time signal centered and Filtered, Derivation \" +\n",
    "            str(i)+\": \"+channels_dic[\"Channel_\"+str(i)],\n",
    "            xlabel=\"Temps (s)\", ylabel=\"Amplitude(\"+str(EEG_Stream[\"info\"][\"desc\"][0][\"channel\"][i-1][\"unit\"][0])+\")\",\n",
    "            markers_times_array=Markers_times_labels)"
   ]
  },
  {
   "attachments": {},
   "cell_type": "markdown",
   "metadata": {},
   "source": [
    "#### Filtered centered signal : FFT"
   ]
  },
  {
   "cell_type": "code",
   "execution_count": null,
   "metadata": {},
   "outputs": [],
   "source": [
    "EEG_raw_amplitudes_centered_filtered_FFT = compute_fft_on_all_channels(EEG_raw_amplitudes_centered_filtered, Srate)\n",
    "print(type(EEG_raw_amplitudes_centered_filtered_FFT),\"length:\",len(EEG_raw_amplitudes_centered_filtered_FFT))"
   ]
  },
  {
   "cell_type": "code",
   "execution_count": null,
   "metadata": {},
   "outputs": [],
   "source": [
    "#plt.show()"
   ]
  }
 ],
 "metadata": {
  "kernelspec": {
   "display_name": "venv_STAGE_SIGNAL_EEG",
   "language": "python",
   "name": "python3"
  },
  "language_info": {
   "codemirror_mode": {
    "name": "ipython",
    "version": 3
   },
   "file_extension": ".py",
   "mimetype": "text/x-python",
   "name": "python",
   "nbconvert_exporter": "python",
   "pygments_lexer": "ipython3",
   "version": "3.11.3"
  },
  "orig_nbformat": 4
 },
 "nbformat": 4,
 "nbformat_minor": 2
}
