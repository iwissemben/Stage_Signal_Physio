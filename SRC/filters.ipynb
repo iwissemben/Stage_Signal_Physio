{
 "cells": [
  {
   "attachments": {},
   "cell_type": "markdown",
   "metadata": {},
   "source": [
    "# Filters"
   ]
  },
  {
   "attachments": {},
   "cell_type": "markdown",
   "metadata": {},
   "source": [
    "## Import libraries"
   ]
  },
  {
   "cell_type": "code",
   "execution_count": null,
   "metadata": {},
   "outputs": [],
   "source": [
    "import os\n",
    "import matplotlib.pyplot as plt\n",
    "import numpy as np\n",
    "from my_functions import *\n",
    "from my_filters import *\n",
    "# library for creating filters\n",
    "from scipy.signal import butter, iirnotch, filtfilt, welch,freqz,freqs,TransferFunction\n",
    "#%matplotlib widget"
   ]
  },
  {
   "attachments": {},
   "cell_type": "markdown",
   "metadata": {},
   "source": [
    "### Ensure that the root directory is the project directory\n",
    "In some cases, the root directory may not be the project directory. This is usually the case when the notebook is run from a subdirectory of the project directory."
   ]
  },
  {
   "cell_type": "code",
   "execution_count": null,
   "metadata": {},
   "outputs": [],
   "source": [
    "# if pwd is SRC  change to root\n",
    "print(\"Current working directory: \", os.getcwd())\n",
    "if os.path.basename(os.getcwd()) == \"SRC\":\n",
    "    os.chdir(\"..\")\n",
    "print(\"Current working directory: \", os.getcwd())\n",
    "print(os.path.basename(os.getcwd()))"
   ]
  },
  {
   "cell_type": "code",
   "execution_count": null,
   "metadata": {},
   "outputs": [],
   "source": [
    "\n",
    "Srate=499\n",
    "FILTER_ORDER=4\n",
    "LOW_CUTOFF_FREQ_CORRECTED=10\n",
    "HIGH_CUTOFF_FREQ_CORRECTED=70\n",
    "f0=50\n",
    "\n",
    "button=1"
   ]
  },
  {
   "attachments": {},
   "cell_type": "markdown",
   "metadata": {},
   "source": [
    "## High-Pass filter"
   ]
  },
  {
   "cell_type": "code",
   "execution_count": null,
   "metadata": {},
   "outputs": [],
   "source": [
    "_,freq1,h1=high_pass_filter(sample_rate=Srate, cutoff_freq=HIGH_CUTOFF_FREQ_CORRECTED, filter_order=FILTER_ORDER)"
   ]
  },
  {
   "cell_type": "code",
   "execution_count": null,
   "metadata": {},
   "outputs": [],
   "source": [
    "plot_filter_frequency_response(fig_number=1,fig_title=\"Frequency response of High Pass filter\",\n",
    "                               frequencies=freq1,magnitude=h1,order=FILTER_ORDER,\n",
    "                               fc1=HIGH_CUTOFF_FREQ_CORRECTED)"
   ]
  },
  {
   "attachments": {},
   "cell_type": "markdown",
   "metadata": {},
   "source": [
    "## Low-Pass filter"
   ]
  },
  {
   "cell_type": "code",
   "execution_count": null,
   "metadata": {},
   "outputs": [],
   "source": [
    "_,freq2,h2=low_pass_filter(sample_rate= Srate, cutoff_freq= HIGH_CUTOFF_FREQ_CORRECTED, filter_order=FILTER_ORDER)"
   ]
  },
  {
   "cell_type": "code",
   "execution_count": null,
   "metadata": {},
   "outputs": [],
   "source": [
    "plot_filter_frequency_response(fig_number=2,fig_title=\"Frequency response of Low Pass filter\",\n",
    "                               frequencies=freq2,magnitude=h2,order=FILTER_ORDER,\n",
    "                               fc1=HIGH_CUTOFF_FREQ_CORRECTED)"
   ]
  },
  {
   "attachments": {},
   "cell_type": "markdown",
   "metadata": {},
   "source": [
    "## Custom Band-Pass filter"
   ]
  },
  {
   "cell_type": "code",
   "execution_count": null,
   "metadata": {},
   "outputs": [],
   "source": [
    "_,freq3,h3=custom_band_pass_filter(sample_rate=Srate,\n",
    "                            low_cutoff_freq=LOW_CUTOFF_FREQ_CORRECTED, \n",
    "                            high_cutoff_freq=HIGH_CUTOFF_FREQ_CORRECTED, \n",
    "                            filter_order=FILTER_ORDER)"
   ]
  },
  {
   "cell_type": "code",
   "execution_count": null,
   "metadata": {},
   "outputs": [],
   "source": [
    "plot_filter_frequency_response(fig_number=3,fig_title=\"Frequency response of custom Band Pass filter\",\n",
    "                               frequencies=freq3,magnitude=h3,order=FILTER_ORDER,\n",
    "                               fc1=LOW_CUTOFF_FREQ_CORRECTED,fc2=HIGH_CUTOFF_FREQ_CORRECTED)"
   ]
  },
  {
   "attachments": {},
   "cell_type": "markdown",
   "metadata": {},
   "source": [
    "## Band-Pass filter"
   ]
  },
  {
   "cell_type": "code",
   "execution_count": null,
   "metadata": {},
   "outputs": [],
   "source": [
    "_,freq4,h4=band_pass_filter(sample_rate=Srate,\n",
    "                            low_cutoff_freq=LOW_CUTOFF_FREQ_CORRECTED, \n",
    "                            high_cutoff_freq=HIGH_CUTOFF_FREQ_CORRECTED,\n",
    "                            filter_order=FILTER_ORDER)"
   ]
  },
  {
   "cell_type": "code",
   "execution_count": null,
   "metadata": {},
   "outputs": [],
   "source": [
    "\n",
    "plot_filter_frequency_response(fig_number=4,fig_title=\"Frequency response of Band Pass filter\",\n",
    "                               frequencies=freq4,magnitude=h4,order=FILTER_ORDER,\n",
    "                               fc1=LOW_CUTOFF_FREQ_CORRECTED,fc2=HIGH_CUTOFF_FREQ_CORRECTED)"
   ]
  },
  {
   "attachments": {},
   "cell_type": "markdown",
   "metadata": {},
   "source": [
    "## Notch filter"
   ]
  },
  {
   "cell_type": "code",
   "execution_count": null,
   "metadata": {},
   "outputs": [],
   "source": [
    "_,freq5,h5=notch_filter(input_signal=None, sample_rate=Srate, cutoff_freq=f0, stop_band_width=2)"
   ]
  },
  {
   "cell_type": "code",
   "execution_count": null,
   "metadata": {},
   "outputs": [],
   "source": [
    "a=plot_filter_frequency_response(fig_number=5,fig_title=\"Frequency response of notch filter\",\n",
    "                               frequencies=freq5,magnitude=h5,order=FILTER_ORDER,\n",
    "                               fc1=f0)\n"
   ]
  }
 ],
 "metadata": {
  "kernelspec": {
   "display_name": "venv_STAGE_SIGNAL_EEG_20230516",
   "language": "python",
   "name": "python3"
  },
  "language_info": {
   "codemirror_mode": {
    "name": "ipython",
    "version": 3
   },
   "file_extension": ".py",
   "mimetype": "text/x-python",
   "name": "python",
   "nbconvert_exporter": "python",
   "pygments_lexer": "ipython3",
   "version": "3.11.3"
  },
  "orig_nbformat": 4
 },
 "nbformat": 4,
 "nbformat_minor": 2
}
