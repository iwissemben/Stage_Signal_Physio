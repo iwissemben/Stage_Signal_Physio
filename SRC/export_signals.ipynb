{
 "cells": [
  {
   "cell_type": "code",
   "execution_count": 1,
   "metadata": {},
   "outputs": [],
   "source": [
    "import os\n",
    "import pyxdf # xdf file importation\n",
    "import numpy as np\n",
    "from my_functions import *"
   ]
  },
  {
   "attachments": {},
   "cell_type": "markdown",
   "metadata": {},
   "source": [
    "### Ensure that the root directory is the project directory\n",
    "In some cases, the root directory may not be the project directory. This is usually the case when the notebook is run from a subdirectory of the project directory."
   ]
  },
  {
   "cell_type": "code",
   "execution_count": 2,
   "metadata": {},
   "outputs": [
    {
     "name": "stdout",
     "output_type": "stream",
     "text": [
      "Current working directory:  c:\\Users\\iWiss\\Documents\\GitHub\\Stage_Signal_Physio\n"
     ]
    }
   ],
   "source": [
    "# if pwd is SRC  change to root\n",
    "if os.getcwd().split(\"/\")[-1] == \"SRC\":\n",
    "    os.chdir(\"..\")\n",
    "print(\"Current working directory: \", os.getcwd())"
   ]
  },
  {
   "attachments": {},
   "cell_type": "markdown",
   "metadata": {},
   "source": [
    "\n",
    "## Initialization"
   ]
  },
  {
   "attachments": {},
   "cell_type": "markdown",
   "metadata": {},
   "source": [
    "### File selection and loading"
   ]
  },
  {
   "cell_type": "code",
   "execution_count": 3,
   "metadata": {},
   "outputs": [],
   "source": [
    "# Define the xdf file path\n",
    "FILENAME = \"001_MolLud_20201112_1_c.xdf\"\n",
    "# FILENAME=\"020_DesMar_20211129_1_c.xdf\"\n",
    "# path=os.path.normpath(\"../DAT/Input/001_MolLud_20201112_1_c.xdf\")\n",
    "path = os.path.normpath(\"DAT/INPUT/\"+FILENAME)"
   ]
  },
  {
   "attachments": {},
   "cell_type": "markdown",
   "metadata": {},
   "source": [
    "### Loading streams of interest"
   ]
  },
  {
   "cell_type": "code",
   "execution_count": 4,
   "metadata": {},
   "outputs": [],
   "source": [
    "data, header = pyxdf.load_xdf(path, select_streams=[{'type': 'EEG'}, {\n",
    "                              'type': 'Markers', 'name': 'MouseToNIC'}])"
   ]
  },
  {
   "attachments": {},
   "cell_type": "markdown",
   "metadata": {},
   "source": [
    "#### Storing the data of interest in two lists (markers and signal) "
   ]
  },
  {
   "cell_type": "code",
   "execution_count": 5,
   "metadata": {},
   "outputs": [],
   "source": [
    "# Selection of the streams of interest in the xdf file (data is a list of dictionaries)\n",
    "for i in range(len(data)):\n",
    "    #print(i)\n",
    "    if data[i][\"info\"][\"type\"] == ['EEG']:\n",
    "        #print(i, \"est EEG\")\n",
    "        EEG_Stream = data[i]  # selecting EEG stream\n",
    "    elif data[i][\"info\"][\"type\"] == ['Markers']:\n",
    "        #print(i, \"est Marker\")\n",
    "        Mouse_markers_Stream = data[i]  # selecting markers stream"
   ]
  },
  {
   "attachments": {},
   "cell_type": "markdown",
   "metadata": {},
   "source": [
    "#### Defining the channels names"
   ]
  },
  {
   "cell_type": "code",
   "execution_count": 6,
   "metadata": {},
   "outputs": [],
   "source": [
    "# definition of the EEG channels' names\n",
    "channels_dic = {\"Channel_1\": \"C4\",\n",
    "                \"Channel_2\": \"FC2\",\n",
    "                \"Channel_3\": \"FC6\",\n",
    "                \"Channel_4\": \"CP2\",\n",
    "                \"Channel_5\": \"C3\",\n",
    "                \"Channel_6\": \"FC1\",\n",
    "                \"Channel_7\": \"FC5\",\n",
    "                \"Channel_8\": \"CP1\"}"
   ]
  },
  {
   "attachments": {},
   "cell_type": "markdown",
   "metadata": {},
   "source": [
    "### Shaping recoding parameters' data"
   ]
  },
  {
   "cell_type": "code",
   "execution_count": 7,
   "metadata": {},
   "outputs": [],
   "source": [
    "Srate = EEG_Stream[\"info\"][\"effective_srate\"]\n",
    "\n",
    "# Markers start with a time relative to the execution time of the recording\n",
    "Marker_times = (\n",
    "    Mouse_markers_Stream[\"time_stamps\"]-EEG_Stream[\"time_stamps\"][0])\n",
    "\n",
    "# selecting the marker labels\n",
    "Markers_labels = Mouse_markers_Stream[\"time_series\"]\n",
    "\n",
    "# Creation of a 2D array Markers_times_labels: [[markers_timesstamps],[markers_labels]]\n",
    "Markers_times_labels = np.column_stack((Marker_times, Markers_labels))\n",
    "\n",
    "# format times_stamps in seconds relative to the execution time of the recording\n",
    "EEG_times = EEG_Stream[\"time_stamps\"]-EEG_Stream[\"time_stamps\"][0]\n",
    "# Amplitude of voltage recorded by each electrode of the recording set-up\n",
    "EEG_raw_amplitudes = EEG_Stream[\"time_series\"]"
   ]
  },
  {
   "attachments": {},
   "cell_type": "markdown",
   "metadata": {},
   "source": [
    "### Export"
   ]
  },
  {
   "attachments": {},
   "cell_type": "markdown",
   "metadata": {},
   "source": [
    "#### Data to be exported"
   ]
  },
  {
   "cell_type": "code",
   "execution_count": 8,
   "metadata": {},
   "outputs": [
    {
     "name": "stdout",
     "output_type": "stream",
     "text": [
      "()\n",
      "(221938,)\n",
      "(221938, 8)\n",
      "[ True  True  True ...  True  True  True]\n"
     ]
    }
   ],
   "source": [
    "Srate,EEG_times,EEG_raw_amplitudes\n",
    "\n",
    "print(Srate.shape)\n",
    "print(EEG_times.shape)\n",
    "print(EEG_raw_amplitudes.shape)\n",
    "\n",
    "#t=np.stack((EEG_times,EEG_raw_amplitudes),axis=1)\n",
    "\n",
    "times_amplitudes=np.column_stack((EEG_raw_amplitudes,EEG_times))\n",
    "\n",
    "print(times_amplitudes[:,-1]==EEG_times)\n"
   ]
  },
  {
   "attachments": {},
   "cell_type": "markdown",
   "metadata": {},
   "source": [
    "#### Export to CSV file"
   ]
  },
  {
   "cell_type": "code",
   "execution_count": 9,
   "metadata": {},
   "outputs": [
    {
     "name": "stdout",
     "output_type": "stream",
     "text": [
      "001_MolLud_20201112_1_c_\n",
      "001_MolLud_20201112_1_c_499.txt\n",
      "DAT\\OUTPUT\\001_MolLud_20201112_1_c_499.txt\n"
     ]
    }
   ],
   "source": [
    "#creating filename\n",
    "originalfilename=FILENAME.replace(\".xdf\",\"_\")\n",
    "print(originalfilename)\n",
    "exportfilename=originalfilename+str(int(Srate))+\".txt\"\n",
    "exportfilepath=os.path.normpath(\"DAT/OUTPUT/\"+exportfilename)\n",
    "print(exportfilename)\n",
    "print(exportfilepath)"
   ]
  },
  {
   "cell_type": "code",
   "execution_count": 10,
   "metadata": {},
   "outputs": [],
   "source": [
    "np.savetxt(exportfilepath,times_amplitudes,delimiter=\",\")"
   ]
  }
 ],
 "metadata": {
  "kernelspec": {
   "display_name": "venv_STAGE_SIGNAL_EEG",
   "language": "python",
   "name": "python3"
  },
  "language_info": {
   "codemirror_mode": {
    "name": "ipython",
    "version": 3
   },
   "file_extension": ".py",
   "mimetype": "text/x-python",
   "name": "python",
   "nbconvert_exporter": "python",
   "pygments_lexer": "ipython3",
   "version": "3.11.3"
  },
  "orig_nbformat": 4
 },
 "nbformat": 4,
 "nbformat_minor": 2
}
