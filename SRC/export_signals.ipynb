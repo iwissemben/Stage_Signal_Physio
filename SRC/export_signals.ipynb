{
 "cells": [
  {
   "cell_type": "code",
   "execution_count": 1,
   "metadata": {},
   "outputs": [],
   "source": [
    "import os\n",
    "import pyxdf # xdf file importation\n",
    "import numpy as np\n",
    "from my_functions import *"
   ]
  },
  {
   "attachments": {},
   "cell_type": "markdown",
   "metadata": {},
   "source": [
    "### Ensure that the root directory is the project directory\n",
    "In some cases, the root directory may not be the project directory. This is usually the case when the notebook is run from a subdirectory of the project directory."
   ]
  },
  {
   "cell_type": "code",
   "execution_count": 2,
   "metadata": {},
   "outputs": [
    {
     "name": "stdout",
     "output_type": "stream",
     "text": [
      "Current working directory:  c:\\Users\\iWiss\\Documents\\GitHub\\Stage_Signal_Physio\\SRC\n",
      "Current working directory:  c:\\Users\\iWiss\\Documents\\GitHub\\Stage_Signal_Physio\n",
      "Stage_Signal_Physio\n"
     ]
    }
   ],
   "source": [
    "# if pwd is SRC  change to root\n",
    "print(\"Current working directory: \", os.getcwd())\n",
    "if os.path.basename(os.getcwd()) == \"SRC\":\n",
    "    os.chdir(\"..\")\n",
    "print(\"Current working directory: \", os.getcwd())\n",
    "print(os.path.basename(os.getcwd()))"
   ]
  },
  {
   "attachments": {},
   "cell_type": "markdown",
   "metadata": {},
   "source": [
    "\n",
    "## Initialization"
   ]
  },
  {
   "attachments": {},
   "cell_type": "markdown",
   "metadata": {},
   "source": [
    "### File selection and loading"
   ]
  },
  {
   "cell_type": "code",
   "execution_count": 3,
   "metadata": {},
   "outputs": [
    {
     "name": "stdout",
     "output_type": "stream",
     "text": [
      "path:  DAT\\INPUT\\001_MolLud_20201112_1_c.xdf\n"
     ]
    }
   ],
   "source": [
    "# Define the xdf file path\n",
    "FILENAME = \"001_MolLud_20201112_1_c.xdf\"\n",
    "# FILENAME=\"020_DesMar_20211129_1_c.xdf\"\n",
    "# path=os.path.normpath(\"../DAT/Input/001_MolLud_20201112_1_c.xdf\")\n",
    "path = os.path.normpath(\"DAT/INPUT/\"+FILENAME)\n",
    "print(\"path: \",path)"
   ]
  },
  {
   "attachments": {},
   "cell_type": "markdown",
   "metadata": {},
   "source": [
    "### Loading streams of interest"
   ]
  },
  {
   "attachments": {},
   "cell_type": "markdown",
   "metadata": {},
   "source": [
    "#### Storing the data of interest in two variables (markers and signal) "
   ]
  },
  {
   "cell_type": "code",
   "execution_count": 4,
   "metadata": {},
   "outputs": [],
   "source": [
    "# load_xdf returns selected streams as list of streams (ie.dictionary)\n",
    "EEG_Stream, EEG_fileheader = pyxdf.load_xdf(path, select_streams=[{'type': 'EEG'}])\n",
    "Mouse_markers_Stream, Mouse_markers_header = pyxdf.load_xdf(path, select_streams=[{'type': 'Markers', 'name': 'MouseToNIC'}])\n",
    "\n",
    "if len(EEG_Stream) and len(Mouse_markers_Stream) ==1:\n",
    "    EEG_Stream=EEG_Stream[-1] #acess to the only EEG stream of the list\n",
    "    Mouse_markers_Stream=Mouse_markers_Stream[-1]\n",
    "else:\n",
    "    print(\"Multiple streams matching type restriction\")\n"
   ]
  },
  {
   "attachments": {},
   "cell_type": "markdown",
   "metadata": {},
   "source": [
    "#### Defining the channels names"
   ]
  },
  {
   "cell_type": "code",
   "execution_count": 5,
   "metadata": {},
   "outputs": [],
   "source": [
    "# definition of the EEG channels' names\n",
    "channels_dict = {\"Channel_1\": \"C4\",\n",
    "                \"Channel_2\": \"FC2\",\n",
    "                \"Channel_3\": \"FC6\",\n",
    "                \"Channel_4\": \"CP2\",\n",
    "                \"Channel_5\": \"C3\",\n",
    "                \"Channel_6\": \"FC1\",\n",
    "                \"Channel_7\": \"FC5\",\n",
    "                \"Channel_8\": \"CP1\"}"
   ]
  },
  {
   "attachments": {},
   "cell_type": "markdown",
   "metadata": {},
   "source": [
    "### Shaping recoding parameters' data"
   ]
  },
  {
   "cell_type": "code",
   "execution_count": 6,
   "metadata": {},
   "outputs": [],
   "source": [
    "Srate = EEG_Stream[\"info\"][\"effective_srate\"]\n",
    "# Markers\n",
    "# Markers start with a time relative to the execution time of the recording\n",
    "Marker_times = (\n",
    "    Mouse_markers_Stream[\"time_stamps\"]-EEG_Stream[\"time_stamps\"][0])\n",
    "\n",
    "# select the marker labels\n",
    "Markers_labels = Mouse_markers_Stream[\"time_series\"]\n",
    "\n",
    "# Creation of a 2D array Markers_times_labels: [[markers_timesstamps],[markers_labels]]\n",
    "Markers_times_labels = np.column_stack((Marker_times, Markers_labels))"
   ]
  },
  {
   "cell_type": "code",
   "execution_count": 7,
   "metadata": {},
   "outputs": [],
   "source": [
    "# EEG\n",
    "# format eeg times_stamps in seconds relative to the execution time of the recording\n",
    "EEG_times = EEG_Stream[\"time_stamps\"]-EEG_Stream[\"time_stamps\"][0]\n",
    "# Amplitude of voltage recorded by each electrode of the recording set-up\n",
    "EEG_raw_amplitudes = EEG_Stream[\"time_series\"]"
   ]
  },
  {
   "attachments": {},
   "cell_type": "markdown",
   "metadata": {},
   "source": [
    "### Export"
   ]
  },
  {
   "attachments": {},
   "cell_type": "markdown",
   "metadata": {},
   "source": [
    "#### Data to be exported"
   ]
  },
  {
   "cell_type": "code",
   "execution_count": 8,
   "metadata": {},
   "outputs": [
    {
     "name": "stdout",
     "output_type": "stream",
     "text": [
      "Srate: 499.9977270435165\n",
      "EEG_times type <class 'numpy.ndarray'>  shape (221938,)\n",
      "EEG_raw_amplitudes type <class 'numpy.ndarray'> shape (221938, 8)\n",
      "[ True  True  True ...  True  True  True]\n"
     ]
    }
   ],
   "source": [
    "print(\"Srate:\",Srate)\n",
    "print(\"EEG_times type\",type(EEG_times),\" shape\",EEG_times.shape)\n",
    "print(\"EEG_raw_amplitudes type\",type(EEG_raw_amplitudes), \"shape\",EEG_raw_amplitudes.shape)\n",
    "\n",
    "times_amplitudes=np.column_stack((EEG_raw_amplitudes,EEG_times))\n",
    "\n",
    "print(times_amplitudes[:,-1]==EEG_times)\n"
   ]
  },
  {
   "attachments": {},
   "cell_type": "markdown",
   "metadata": {},
   "source": [
    "#### Export to CSV file"
   ]
  },
  {
   "cell_type": "code",
   "execution_count": 9,
   "metadata": {},
   "outputs": [
    {
     "name": "stdout",
     "output_type": "stream",
     "text": [
      "DAT\\INPUT\\001_MolLud_20201112_1_c_499.998Hz.csv\n"
     ]
    }
   ],
   "source": [
    "#creating filename\n",
    "originalfilename=FILENAME.replace(\".xdf\",\"_\")\n",
    "\n",
    "exportfilename=originalfilename+str(round(Srate,3))+\"Hz.csv\"\n",
    "\n",
    "exportfilepath=os.path.normpath(\"DAT/INPUT/\"+exportfilename)\n",
    "print(exportfilepath)"
   ]
  },
  {
   "cell_type": "code",
   "execution_count": 10,
   "metadata": {},
   "outputs": [
    {
     "name": "stdout",
     "output_type": "stream",
     "text": [
      "Channel_1:C4, Channel_2:FC2, Channel_3:FC6, Channel_4:CP2, Channel_5:C3, Channel_6:FC1, Channel_7:FC5, Channel_8:CP1\n",
      "Channel_1:C4, Channel_2:FC2, Channel_3:FC6, Channel_4:CP2, Channel_5:C3, Channel_6:FC1, Channel_7:FC5, Channel_8:CP1,time(s)\n"
     ]
    }
   ],
   "source": [
    "header = ', '.join([f\"{key}:{value}\" for key, value in channels_dict.items()])\n",
    "print(header)\n",
    "header=header+',time(s)'\n",
    "print(header)\n"
   ]
  },
  {
   "cell_type": "code",
   "execution_count": 11,
   "metadata": {},
   "outputs": [],
   "source": [
    "#np.savetxt(exportfilepath,times_amplitudes,delimiter=\",\")\n",
    "np.savetxt(exportfilepath, times_amplitudes, delimiter=',', header=header, comments='', fmt='%d')"
   ]
  }
 ],
 "metadata": {
  "kernelspec": {
   "display_name": "venv_STAGE_SIGNAL_EEG",
   "language": "python",
   "name": "python3"
  },
  "language_info": {
   "codemirror_mode": {
    "name": "ipython",
    "version": 3
   },
   "file_extension": ".py",
   "mimetype": "text/x-python",
   "name": "python",
   "nbconvert_exporter": "python",
   "pygments_lexer": "ipython3",
   "version": "3.11.3"
  },
  "orig_nbformat": 4
 },
 "nbformat": 4,
 "nbformat_minor": 2
}
