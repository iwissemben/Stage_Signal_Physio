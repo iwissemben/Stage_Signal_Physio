{
 "cells": [
  {
   "cell_type": "code",
   "execution_count": null,
   "metadata": {},
   "outputs": [],
   "source": [
    "import os\n",
    "import pyxdf # xdf file importation\n",
    "import numpy as np\n",
    "from my_functions import *"
   ]
  },
  {
   "attachments": {},
   "cell_type": "markdown",
   "metadata": {},
   "source": [
    "### Ensure that the root directory is the project directory\n",
    "In some cases, the root directory may not be the project directory. This is usually the case when the notebook is run from a subdirectory of the project directory."
   ]
  },
  {
   "cell_type": "code",
   "execution_count": null,
   "metadata": {},
   "outputs": [],
   "source": [
    "# if pwd is SRC  change to root\n",
    "if os.path.basename(os.getcwd()) == \"SRC\":\n",
    "    os.chdir(\"..\")\n",
    "print(\"Current working directory: \", os.getcwd())\n"
   ]
  },
  {
   "attachments": {},
   "cell_type": "markdown",
   "metadata": {},
   "source": [
    "\n",
    "## Initialization"
   ]
  },
  {
   "attachments": {},
   "cell_type": "markdown",
   "metadata": {},
   "source": [
    "### File selection"
   ]
  },
  {
   "cell_type": "code",
   "execution_count": null,
   "metadata": {},
   "outputs": [],
   "source": [
    "# Define the xdf file path\n",
    "# FILENAME=\"020_DesMar_20211129_1_c.xdf\"\n",
    "# path=os.path.normpath(\"../DAT/Input/001_MolLud_20201112_1_c.xdf\")\n",
    "#input_filepath = os.path.normpath(\"DAT/INPUT/\"+FILENAME)\n",
    "input_filepath = xdf_filepath\n",
    "INPUT_FILENAME = os.path.splitext(os.path.basename(input_filepath))[0]\n",
    "\n",
    "print(\"Input filepath: \",input_filepath)\n",
    "print(\"Input filename: \",INPUT_FILENAME)"
   ]
  },
  {
   "attachments": {},
   "cell_type": "markdown",
   "metadata": {},
   "source": [
    "### Loading streams of interest"
   ]
  },
  {
   "attachments": {},
   "cell_type": "markdown",
   "metadata": {},
   "source": [
    "#### Storing the data of interest in two variables (markers and signal) "
   ]
  },
  {
   "cell_type": "code",
   "execution_count": null,
   "metadata": {},
   "outputs": [],
   "source": [
    "# load_xdf returns selected streams as list of streams (ie.dictionary)\n",
    "EEG_Stream, EEG_fileheader = pyxdf.load_xdf(input_filepath, select_streams=[{'type': 'EEG'}])\n",
    "Mouse_markers_Stream, Mouse_markers_header = pyxdf.load_xdf(input_filepath, select_streams=[{'type': 'Markers', 'name': 'MouseToNIC'}])\n",
    "\n",
    "if len(EEG_Stream) and len(Mouse_markers_Stream) ==1:\n",
    "    EEG_Stream=EEG_Stream[-1] #acess to the only EEG stream of the list\n",
    "    Mouse_markers_Stream=Mouse_markers_Stream[-1]\n",
    "else:\n",
    "    print(\"Multiple streams matching type restriction\")\n"
   ]
  },
  {
   "attachments": {},
   "cell_type": "markdown",
   "metadata": {},
   "source": [
    "#### Defining the channels names"
   ]
  },
  {
   "cell_type": "code",
   "execution_count": null,
   "metadata": {},
   "outputs": [],
   "source": [
    "# definition of the EEG channels' names\n",
    "channels_dict = {\"Channel_1\": \"C4\",\n",
    "                \"Channel_2\": \"FC2\",\n",
    "                \"Channel_3\": \"FC6\",\n",
    "                \"Channel_4\": \"CP2\",\n",
    "                \"Channel_5\": \"C3\",\n",
    "                \"Channel_6\": \"FC1\",\n",
    "                \"Channel_7\": \"FC5\",\n",
    "                \"Channel_8\": \"CP1\"}"
   ]
  },
  {
   "attachments": {},
   "cell_type": "markdown",
   "metadata": {},
   "source": [
    "### Tidy recoding parameters' data"
   ]
  },
  {
   "cell_type": "code",
   "execution_count": null,
   "metadata": {},
   "outputs": [],
   "source": [
    "#get sampling rate\n",
    "Srate = EEG_Stream[\"info\"][\"effective_srate\"]\n",
    "\n",
    "# Markers\n",
    "# select the marker labels\n",
    "Markers_labels = Mouse_markers_Stream[\"time_series\"]\n",
    "\n",
    "# Markers start with a time relative to the execution time of the recording\n",
    "Marker_times = (\n",
    "    Mouse_markers_Stream[\"time_stamps\"]-EEG_Stream[\"time_stamps\"][0])\n",
    "\n",
    "# Creation of a 2D array Markers_times_labels: [[markers_timesstamps],[markers_labels]]\n",
    "Markers_times_labels = np.column_stack((Marker_times, Markers_labels))"
   ]
  },
  {
   "cell_type": "code",
   "execution_count": null,
   "metadata": {},
   "outputs": [],
   "source": [
    "# EEG\n",
    "# format eeg times_stamps in seconds relative to the execution time of the recording\n",
    "EEG_times = EEG_Stream[\"time_stamps\"]-EEG_Stream[\"time_stamps\"][0]\n",
    "# get amplitudes recorded by each electrode of the recording set-up\n",
    "EEG_raw_amplitudes = EEG_Stream[\"time_series\"]"
   ]
  },
  {
   "attachments": {},
   "cell_type": "markdown",
   "metadata": {},
   "source": [
    "### Export"
   ]
  },
  {
   "attachments": {},
   "cell_type": "markdown",
   "metadata": {},
   "source": [
    "#### Data to be exported"
   ]
  },
  {
   "cell_type": "code",
   "execution_count": null,
   "metadata": {},
   "outputs": [],
   "source": [
    "print(\"PROCESS_SIGNAL --\",PROCESS_SIGNAL)"
   ]
  },
  {
   "cell_type": "code",
   "execution_count": null,
   "metadata": {},
   "outputs": [],
   "source": [
    "if PROCESS_SIGNAL is True:\n",
    "    print(\"Detrending -----------------\")\n",
    "    EEG_amplitudes_centered=detrend_signals(EEG_raw_amplitudes)\n",
    "    print(\"Rereferencing --------------\")\n",
    "    EEG_amplitudes_rereferenced=rereference_signals(input_signals=EEG_amplitudes_centered)\n",
    "    print(\"Filtering ------------------\")\n",
    "    EEG_amplitudes_centered_filtered,_,_=filter_signal(input_signals=EEG_amplitudes_rereferenced,\n",
    "                                                sample_rate=Srate,\n",
    "                                                order=8,cutofffreq=(5,100,50))\n",
    "    EEG_for_export=EEG_amplitudes_centered_filtered\n",
    "    DATA_STATUS=\"preprocessed\"\n",
    "elif PROCESS_SIGNAL is False:\n",
    "    print(\"Raw signal...\")\n",
    "    EEG_for_export=EEG_raw_amplitudes\n",
    "    DATA_STATUS=\"raw\"\n",
    "else:\n",
    "    raise ValueError('PROCESS_SIGNAL must be Boolean (True or False)')\n",
    "\n",
    "\n",
    "print(f\"EEG_for_export shape : {EEG_for_export.shape}\")"
   ]
  },
  {
   "cell_type": "code",
   "execution_count": null,
   "metadata": {},
   "outputs": [],
   "source": [
    "#Stack columns as electrodes signals followed by column of timestamps\n",
    "times_amplitudes=np.column_stack((EEG_for_export,EEG_times))"
   ]
  },
  {
   "attachments": {},
   "cell_type": "markdown",
   "metadata": {},
   "source": [
    "#### Export to CSV file"
   ]
  },
  {
   "cell_type": "code",
   "execution_count": null,
   "metadata": {},
   "outputs": [],
   "source": [
    "#Create header for CSV\n",
    "header = ', '.join([f\"{key}:{value}\" for key, value in channels_dict.items()])\n",
    "header=header+',time(sec)'\n",
    "print(\"export data header :\",header)\n"
   ]
  },
  {
   "cell_type": "code",
   "execution_count": null,
   "metadata": {},
   "outputs": [],
   "source": [
    "#Create filename\n",
    "#originalfilename=INPUT_FILENAME.replace(\".xdf\",\"\")\n",
    "\n",
    "exportfilename=f\"{INPUT_FILENAME}_{DATA_STATUS}_{round(Srate,3)}_Hz.csv\"\n",
    "\n",
    "exportfilepath=os.path.normpath(\"DAT/INPUT/\"+exportfilename)\n",
    "print(f\"Input filepath : {input_filepath}\")\n",
    "print(f\"Output filename : {exportfilename}\")\n",
    "print(f\"Output filepath : {exportfilepath}\")"
   ]
  },
  {
   "cell_type": "code",
   "execution_count": null,
   "metadata": {},
   "outputs": [],
   "source": [
    "#np.savetxt(exportfilepath,times_amplitudes,delimiter=\",\")\n",
    "np.savetxt(exportfilepath, times_amplitudes, delimiter=',', header=header, comments='', fmt='%d')"
   ]
  }
 ],
 "metadata": {
  "kernelspec": {
   "display_name": "venv_STAGE_SIGNAL_EEG",
   "language": "python",
   "name": "python3"
  },
  "language_info": {
   "codemirror_mode": {
    "name": "ipython",
    "version": 3
   },
   "file_extension": ".py",
   "mimetype": "text/x-python",
   "name": "python",
   "nbconvert_exporter": "python",
   "pygments_lexer": "ipython3",
   "version": "3.11.3"
  },
  "orig_nbformat": 4
 },
 "nbformat": 4,
 "nbformat_minor": 2
}
