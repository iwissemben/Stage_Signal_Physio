{
 "cells": [
  {
   "cell_type": "code",
   "execution_count": 70,
   "metadata": {},
   "outputs": [],
   "source": [
    "import os\n",
    "import pyxdf # xdf file importation\n",
    "import matplotlib.pyplot as plt\n",
    "import numpy as np\n",
    "from numpy.typing import NDArray\n",
    "\n",
    "from my_functions import *\n",
    "from my_filters import *\n"
   ]
  },
  {
   "cell_type": "code",
   "execution_count": 71,
   "metadata": {},
   "outputs": [
    {
     "name": "stdout",
     "output_type": "stream",
     "text": [
      "Current working directory:  c:\\Users\\iWiss\\Documents\\GitHub\\Stage_Signal_Physio\n",
      "Current working directory:  c:\\Users\\iWiss\\Documents\\GitHub\\Stage_Signal_Physio\n",
      "Stage_Signal_Physio\n"
     ]
    }
   ],
   "source": [
    "# if pwd is SRC  change to root\n",
    "print(\"Current working directory: \", os.getcwd())\n",
    "if os.path.basename(os.getcwd()) == \"SRC\":\n",
    "    os.chdir(\"..\")\n",
    "print(\"Current working directory: \", os.getcwd())\n",
    "print(os.path.basename(os.getcwd()))"
   ]
  },
  {
   "cell_type": "code",
   "execution_count": 72,
   "metadata": {},
   "outputs": [],
   "source": [
    "# create a 2D array of signals\n",
    "# Define the sample rate and duration\n",
    "srate= 12  # samples per second\n",
    "duration = 8\n",
    "# Calculate the total number of samples\n",
    "num_samples = int(srate * duration)\n",
    "\n",
    "# Generate a time array with equally spaced time points\n",
    "times = np.linspace(0, duration, num_samples, endpoint=False)\n",
    "\n",
    "# Generate a 2d array of samples  composed of 1 signals (columns)\n",
    "samples = np.random.uniform(low=-20, high=20, size=(num_samples,1))"
   ]
  },
  {
   "cell_type": "code",
   "execution_count": 73,
   "metadata": {},
   "outputs": [
    {
     "name": "stdout",
     "output_type": "stream",
     "text": [
      "[[  1.2 100. ]\n",
      " [  2.2 111. ]\n",
      " [  3.2 100. ]\n",
      " [  4.2 111. ]\n",
      " [  5.2 100. ]\n",
      " [  6.2 111. ]]\n"
     ]
    }
   ],
   "source": [
    "#create a 2d array of marker timestamps and labels\n",
    "labels = [100,111,100,111,100,111]\n",
    "timestamps = [1.2,2.2,3.2,4.2,5.2,6.2]\n",
    "marker_timestamps_labels=np.column_stack((timestamps,labels))\n",
    "print(marker_timestamps_labels)"
   ]
  },
  {
   "cell_type": "code",
   "execution_count": 74,
   "metadata": {},
   "outputs": [
    {
     "name": "stdout",
     "output_type": "stream",
     "text": [
      "[[  1.2 100. ]\n",
      " [  2.2 111. ]\n",
      " [  3.2 100. ]\n",
      " [  4.2 111. ]\n",
      " [  5.2 100. ]\n",
      " [  6.2 111. ]]\n"
     ]
    }
   ],
   "source": [
    "marker_timestamps_labels = create_marker_times_labels_array2(marker_labels=labels,marker_time_stamps=timestamps)\n",
    "print(marker_timestamps_labels)\n"
   ]
  },
  {
   "cell_type": "code",
   "execution_count": 75,
   "metadata": {},
   "outputs": [
    {
     "name": "stdout",
     "output_type": "stream",
     "text": [
      "MARKERS LEN: 6\n",
      "[1.16666667 2.16666667 3.16666667 4.16666667 5.16666667 6.16666667]\n"
     ]
    }
   ],
   "source": [
    "nearest_markers_array = nearest_timestamps_array_finder(signal_times_stamps=times,markers=marker_timestamps_labels)\n",
    "print(nearest_markers_array[\"markers_timestamps\"])\n"
   ]
  },
  {
   "cell_type": "code",
   "execution_count": 76,
   "metadata": {},
   "outputs": [
    {
     "name": "stdout",
     "output_type": "stream",
     "text": [
      "96\n",
      "Epoch limits relative to events (in sec): start: 0s - end: 1s\n",
      "Epoch limits relative to events (in samples): n_points_before_marker: 0 - n_points_after_marker: 12\n",
      "Event type : 111 ------------ epochs :\n",
      "first_seg_coord: 26 - second_seg_coord: 38\n",
      "first_seg_coord: 50 - second_seg_coord: 62\n",
      "first_seg_coord: 74 - second_seg_coord: 86\n",
      "signal_segments shape: (13, 3)\n",
      "time_segments shape: (13, 3)\n",
      "Event type : 100 ------------ epochs :\n",
      "first_seg_coord: 14 - second_seg_coord: 26\n",
      "first_seg_coord: 38 - second_seg_coord: 50\n",
      "first_seg_coord: 62 - second_seg_coord: 74\n",
      "signal_segments shape: (13, 3)\n",
      "time_segments shape: (13, 3)\n"
     ]
    }
   ],
   "source": [
    "epoch_limits=(0,1)\n",
    "signals_epoched=extract_data_epochs_from_all_signals(signals=samples,sample_rate=srate,markers_labels_times=nearest_markers_array,\n",
    "                                                         select_events=(100,111),epoch_limits=epoch_limits)"
   ]
  },
  {
   "cell_type": "code",
   "execution_count": 77,
   "metadata": {},
   "outputs": [
    {
     "data": {
      "text/plain": [
       "{'signal_segments': array([[  0.05000755,   5.39167934,  -4.51002977],\n",
       "        [-13.9006823 ,  16.08652093,   6.94583739],\n",
       "        [  4.41995418, -19.4193582 ,  -9.67316442],\n",
       "        [ -4.2825118 ,  13.1434491 ,  12.10652888],\n",
       "        [ 16.47824636, -14.61892249,  16.23382859],\n",
       "        [ -9.98860939,  10.47599246,   4.52948457],\n",
       "        [ -6.37747959,   1.29907961,  17.71877425],\n",
       "        [ 19.43642676,  -3.84698154, -17.61466165],\n",
       "        [  4.05656799,  -6.77752265, -11.22325894],\n",
       "        [-17.10821502,  -0.18446925,  -3.17180486],\n",
       "        [-18.44527133, -11.46404629,   0.35579351],\n",
       "        [ -9.85712168, -17.41667949, -16.96807736],\n",
       "        [ -9.41706924, -18.96980578,  -5.93296105]]),\n",
       " 'time_segments': array([[1.16666667, 3.16666667, 5.16666667],\n",
       "        [1.25      , 3.25      , 5.25      ],\n",
       "        [1.33333333, 3.33333333, 5.33333333],\n",
       "        [1.41666667, 3.41666667, 5.41666667],\n",
       "        [1.5       , 3.5       , 5.5       ],\n",
       "        [1.58333333, 3.58333333, 5.58333333],\n",
       "        [1.66666667, 3.66666667, 5.66666667],\n",
       "        [1.75      , 3.75      , 5.75      ],\n",
       "        [1.83333333, 3.83333333, 5.83333333],\n",
       "        [1.91666667, 3.91666667, 5.91666667],\n",
       "        [2.        , 4.        , 6.        ],\n",
       "        [2.08333333, 4.08333333, 6.08333333],\n",
       "        [2.16666667, 4.16666667, 6.16666667]])}"
      ]
     },
     "execution_count": 77,
     "metadata": {},
     "output_type": "execute_result"
    }
   ],
   "source": [
    "signals_epoched[\"Channel_1\"][\"Epochs\"][\"time_signals\"][\"label_100\"]"
   ]
  },
  {
   "cell_type": "code",
   "execution_count": 78,
   "metadata": {},
   "outputs": [
    {
     "name": "stdout",
     "output_type": "stream",
     "text": [
      "segments shapes to psd - (13, 3)\n",
      "nfft: 13\n",
      "nfft: 13\n",
      "nfft: 13\n",
      "segments shapes to psd - (13, 3)\n",
      "nfft: 13\n",
      "nfft: 13\n",
      "nfft: 13\n"
     ]
    },
    {
     "data": {
      "text/plain": [
       "array([[18.70787948, 11.97556571, 18.53897458],\n",
       "       [36.08281856, 24.37222381, 35.46529617],\n",
       "       [32.38935793, 25.53903378, 30.99677657],\n",
       "       [27.18150438, 27.18425923, 24.69607435],\n",
       "       [21.65231441, 28.93099883, 18.00660446],\n",
       "       [17.06845881, 30.3790956 , 12.46084383],\n",
       "       [14.48004365, 31.19680801,  9.32925939]])"
      ]
     },
     "execution_count": 78,
     "metadata": {},
     "output_type": "execute_result"
    }
   ],
   "source": [
    "# Compute PSD for all epochs of all signals at once\n",
    "fft_length=len(signals_epoched[\"Channel_1\"][\"Epochs\"][\"time_signals\"][\"label_111\"][\"signal_segments\"])\n",
    "signals_epochs_psds = compute_psds_for_each_epoch_all_signals(input_dict=signals_epoched,sample_rate=srate,\n",
    "                                                                  nfft=fft_length)\n",
    "signals_epochs_psds[\"Channel_1\"][\"Epochs\"][\"PSDs\"][\"label_100\"][\"PSD_magnitudes\"]"
   ]
  }
 ],
 "metadata": {
  "kernelspec": {
   "display_name": "wissem_venv",
   "language": "python",
   "name": "python3"
  },
  "language_info": {
   "codemirror_mode": {
    "name": "ipython",
    "version": 3
   },
   "file_extension": ".py",
   "mimetype": "text/x-python",
   "name": "python",
   "nbconvert_exporter": "python",
   "pygments_lexer": "ipython3",
   "version": "3.11.3"
  },
  "orig_nbformat": 4
 },
 "nbformat": 4,
 "nbformat_minor": 2
}
